{
 "cells": [
  {
   "cell_type": "markdown",
   "metadata": {},
   "source": [
    "### CS 156a HW1 P7-10\n",
    "Author: Liting Xiao. Date: Oct 7, 2019."
   ]
  },
  {
   "cell_type": "code",
   "execution_count": 1,
   "metadata": {},
   "outputs": [],
   "source": [
    "import numpy as np\n",
    "import matplotlib.pyplot as plt"
   ]
  },
  {
   "cell_type": "code",
   "execution_count": 2,
   "metadata": {},
   "outputs": [],
   "source": [
    "# create target func f(x) = mx + b\n",
    "# input space is [-1, 1] x [-1, 1]\n",
    "def create_target_func():\n",
    "    (x1, y1), (x2, y2) = np.random.uniform(-1, 1, (2, 2))\n",
    "    m = (y2 - y1) / (x2 - x1)\n",
    "    b = y1 - m * x1\n",
    "    return m, b"
   ]
  },
  {
   "cell_type": "code",
   "execution_count": 3,
   "metadata": {},
   "outputs": [],
   "source": [
    "# defining point x_n above the line having y_n = 1\n",
    "# while below the line having y_n = -1\n",
    "def create_data_set(N, m, b):\n",
    "    X = np.random.uniform(-1, 1, (2, N))\n",
    "    Y = np.sign(X[1, :] - m * X[0, :] - b)\n",
    "    return X, Y"
   ]
  },
  {
   "cell_type": "code",
   "execution_count": 4,
   "metadata": {},
   "outputs": [
    {
     "data": {
      "image/png": "[encoded data removed]",
      "text/plain": [
       "<Figure size 432x288 with 1 Axes>"
      ]
     },
     "metadata": {
      "needs_background": "light"
     },
     "output_type": "display_data"
    }
   ],
   "source": [
    "# visualize the target function and dataset for 100 points\n",
    "m, b = create_target_func()\n",
    "X, Y = create_data_set(100, m, b)\n",
    "\n",
    "plt.plot([-1, 1], [-m+b, m+b])\n",
    "plt.scatter(X[0, Y==1], X[1, Y==1], s=2.5)\n",
    "plt.scatter(X[0, Y==-1], X[1, Y==-1], s=2.5)\n",
    "plt.xlim([-1, 1])\n",
    "plt.ylim([-1, 1])\n",
    "plt.xlabel('x')\n",
    "plt.ylabel('y')\n",
    "plt.show()"
   ]
  },
  {
   "cell_type": "code",
   "execution_count": 5,
   "metadata": {},
   "outputs": [],
   "source": [
    "# create PLA for training\n",
    "def pla(N_pt, N_exp = 1000):\n",
    "    \n",
    "    # iterate runs\n",
    "    conv_list = []\n",
    "    for i in range(N_exp):\n",
    "        # create training set\n",
    "        m, b = create_target_func()\n",
    "        X, Y = create_data_set(N_pt, m, b)\n",
    "        \n",
    "        # shuffle the data set\n",
    "        shuffle_idx = np.random.permutation(len(Y))\n",
    "        X, Y = X[:, shuffle_idx], Y[shuffle_idx]\n",
    "        \n",
    "        # initialize weights\n",
    "        w = np.zeros(X.shape[0] + 1)\n",
    "        \n",
    "        # add x0 = 1 term\n",
    "        xcheck = np.vstack((np.ones(N_pt), X)).T\n",
    "        ycheck = np.sign(np.sum(w * xcheck, axis=1))\n",
    "        \n",
    "        # train\n",
    "        conv = 0\n",
    "        while sum(Y != ycheck) != 0:\n",
    "            mask = (Y != ycheck)\n",
    "            \n",
    "            idx = np.random.randint(sum(mask))\n",
    "            x = xcheck[mask][idx]\n",
    "            y = Y[mask][idx]\n",
    "                        \n",
    "            w += y * x\n",
    "            ycheck = np.sign(np.sum(w * xcheck, axis=1))\n",
    "            conv += 1\n",
    "\n",
    "        conv_list.append(conv)\n",
    "\n",
    "    return m, b, w, np.mean(conv_list)"
   ]
  },
  {
   "cell_type": "code",
   "execution_count": 6,
   "metadata": {},
   "outputs": [
    {
     "name": "stdout",
     "output_type": "stream",
     "text": [
      "Average number of iterations to converge for 10 training points: 9.69\n",
      "Average number of iterations to converge for 100 training points: 122.414\n"
     ]
    }
   ],
   "source": [
    "# training\n",
    "N1 = 10\n",
    "N2 = 100\n",
    "m1, b1, w1, conv1 = pla(N1)\n",
    "m2, b2, w2, conv2 = pla(N2)\n",
    "print('Average number of iterations to converge for '\n",
    "      '{} training points: {}'.format(N1, conv1))\n",
    "print('Average number of iterations to converge for '\n",
    "      '{} training points: {}'.format(N2, conv2))"
   ]
  },
  {
   "cell_type": "code",
   "execution_count": 7,
   "metadata": {},
   "outputs": [
    {
     "name": "stdout",
     "output_type": "stream",
     "text": [
      "For 10 training points, P[f(x) != g(x)] ~ 0.07376\n",
      "For 100 training points, P[f(x) != g(x)] ~ 0.00843\n"
     ]
    }
   ],
   "source": [
    "# create test sets to test PLA results\n",
    "def testTraining(N_test, m, b, w):\n",
    "    testX, testY = create_data_set(N_test, m, b)\n",
    "    x = np.vstack((np.ones(N_test), testX)).T\n",
    "    y = np.sign(np.sum(w * x, axis=1))\n",
    "    frac = sum(y != testY) / N_test\n",
    "    return frac\n",
    "\n",
    "# testing\n",
    "N_test = 100000\n",
    "prob1 = testTraining(N_test, m1, b1, w1)\n",
    "prob2 = testTraining(N_test, m2, b2, w2)\n",
    "    \n",
    "print('For {} training points, P[f(x) != g(x)] ~ {}'\n",
    "      .format(N1, prob1))\n",
    "print('For {} training points, P[f(x) != g(x)] ~ {}'\n",
    "      .format(N2, prob2))"
   ]
  }
 ],
 "metadata": {
  "kernelspec": {
   "display_name": "Python 3",
   "language": "python",
   "name": "python3"
  },
  "language_info": {
   "codemirror_mode": {
    "name": "ipython",
    "version": 3
   },
   "file_extension": ".py",
   "mimetype": "text/x-python",
   "name": "python",
   "nbconvert_exporter": "python",
   "pygments_lexer": "ipython3",
   "version": "3.9.4"
  }
 },
 "nbformat": 4,
 "nbformat_minor": 2
}
