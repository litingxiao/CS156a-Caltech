{
 "cells": [
  {
   "cell_type": "markdown",
   "metadata": {},
   "source": [
    "### CS 156a HW1 P7-10\n",
    "Author: Liting Xiao. Date: Oct 7, 2019."
   ]
  },
  {
   "cell_type": "code",
   "execution_count": 1,
   "metadata": {},
   "outputs": [],
   "source": [
    "import numpy as np"
   ]
  },
  {
   "cell_type": "code",
   "execution_count": 2,
   "metadata": {},
   "outputs": [],
   "source": [
    "# create target func f(x) = mx + b\n",
    "def create_target_func():\n",
    "    p1 = np.random.rand(2, 1) * 2 - 1\n",
    "    p2 = np.random.rand(2, 1) * 2 - 1\n",
    "    m = (p2[1] - p1[1]) / (p2[0] - p1[0])\n",
    "    b = p2[1] - m * p2[0]\n",
    "    return m, b"
   ]
  },
  {
   "cell_type": "code",
   "execution_count": 3,
   "metadata": {},
   "outputs": [],
   "source": [
    "def create_data_set(N, m, b):\n",
    "    X = np.random.rand(2, N) * 2 - 1\n",
    "    # defining point x_n above the line having y_n = 1\n",
    "    # while below the line having y_n = -1\n",
    "    Y = np.sign(X[1, :] - m * X[0, :] - b)\n",
    "    return X, Y"
   ]
  },
  {
   "cell_type": "code",
   "execution_count": 4,
   "metadata": {},
   "outputs": [],
   "source": [
    "# create PLA for training\n",
    "def pla(N_pt):\n",
    "    N_exp = 1000\n",
    "    \n",
    "    # iterate runs\n",
    "    conv_list = []\n",
    "    for i in range(N_exp):\n",
    "        # create data sets\n",
    "        m, b = create_target_func()\n",
    "        X, Y = create_data_set(N_pt, m, b)\n",
    "        \n",
    "        # shuffle the data set\n",
    "        shuffle_idx = np.random.permutation(len(Y))\n",
    "        X, Y = X[:, shuffle_idx], Y[shuffle_idx]\n",
    "        \n",
    "        # initialize weights\n",
    "        w = np.zeros(np.size(X, 0) + 1)\n",
    "        \n",
    "        # add x0 = 1 term\n",
    "        xcheck = np.vstack((np.ones(N_pt), X)).T\n",
    "        ycheck = np.sign(np.sum(w * xcheck, axis=1))\n",
    "        \n",
    "        # train\n",
    "        conv = 0\n",
    "        while sum(np.not_equal(Y, ycheck)) != 0:\n",
    "            idx = np.not_equal(Y, ycheck)\n",
    "            x = xcheck[idx][np.random.randint(sum(idx))]\n",
    "            y = Y[idx][np.random.randint(sum(idx))]\n",
    "                        \n",
    "            w += y * x\n",
    "            ycheck = np.sign(np.sum(w * xcheck, axis=1))\n",
    "            conv += 1\n",
    "\n",
    "        conv_list.append(conv)\n",
    "\n",
    "    return m, b, w, np.mean(conv_list)"
   ]
  },
  {
   "cell_type": "code",
   "execution_count": 5,
   "metadata": {},
   "outputs": [
    {
     "name": "stdout",
     "output_type": "stream",
     "text": [
      "Average number of iterations to converge for 10 training points: 16.2\n",
      "Average number of iterations to converge for 100 training points: 203.348\n"
     ]
    }
   ],
   "source": [
    "# training\n",
    "# num of data points\n",
    "N1 = 10\n",
    "N2 = 100\n",
    "m1, b1, w1, conv1 = pla(N1)\n",
    "m2, b2, w2, conv2 = pla(N2)\n",
    "print('Average number of iterations to converge for '\n",
    "      '{} training points: {}'.format(N1, conv1))\n",
    "print('Average number of iterations to converge for '\n",
    "      '{} training points: {}'.format(N2, conv2))"
   ]
  },
  {
   "cell_type": "code",
   "execution_count": 7,
   "metadata": {},
   "outputs": [
    {
     "name": "stdout",
     "output_type": "stream",
     "text": [
      "For 10 training points, P[f(x) != g(x)] ~ 0.04663\n",
      "For 100 training points, P[f(x) != g(x)] ~ 0.00112\n"
     ]
    }
   ],
   "source": [
    "# create test sets to test PLA results\n",
    "def testTraining(N_test, m, b, w):\n",
    "    testX, testY = create_data_set(N_test, m, b)\n",
    "    x = np.vstack((np.ones(N_test), testX)).T\n",
    "    y = np.sign(np.sum(w * x, axis=1))\n",
    "    frac = sum(np.not_equal(y, testY)) / np.size(testX, 1)\n",
    "    return frac\n",
    "\n",
    "N_test = 100000\n",
    "prob1 = testTraining(N_test, m1, b1, w1)\n",
    "prob2 = testTraining(N_test, m2, b2, w2)\n",
    "    \n",
    "print('For {} training points, P[f(x) != g(x)] ~ {}'\n",
    "      .format(N1, prob1))\n",
    "print('For {} training points, P[f(x) != g(x)] ~ {}'\n",
    "      .format(N2, prob2))"
   ]
  }
 ],
 "metadata": {
  "kernelspec": {
   "display_name": "Python 3",
   "language": "python",
   "name": "python3"
  },
  "language_info": {
   "codemirror_mode": {
    "name": "ipython",
    "version": 3
   },
   "file_extension": ".py",
   "mimetype": "text/x-python",
   "name": "python",
   "nbconvert_exporter": "python",
   "pygments_lexer": "ipython3",
   "version": "3.7.4"
  }
 },
 "nbformat": 4,
 "nbformat_minor": 2
}
