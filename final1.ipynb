{
 "cells": [
  {
   "cell_type": "markdown",
   "metadata": {},
   "source": [
    "### CS 156a, Final, P7-10\n",
    "Author: Liting Xiao"
   ]
  },
  {
   "cell_type": "code",
   "execution_count": 1,
   "metadata": {},
   "outputs": [],
   "source": [
    "import numpy as np\n",
    "from sklearn.linear_model import Ridge"
   ]
  },
  {
   "cell_type": "code",
   "execution_count": 2,
   "metadata": {},
   "outputs": [],
   "source": [
    "# read in train/test data sets\n",
    "train_x = np.loadtxt('features.train', usecols=(1,2), unpack=True)\n",
    "train_y = np.loadtxt('features.train', usecols=0)\n",
    "test_x = np.loadtxt('features.test', usecols=(1,2), unpack=True)\n",
    "test_y = np.loadtxt('features.test', usecols=0)"
   ]
  },
  {
   "cell_type": "code",
   "execution_count": 3,
   "metadata": {},
   "outputs": [],
   "source": [
    "def reg_lin(train_x, dtrain_y, test_x,\n",
    "               dtest_y, lamb=1.):\n",
    "    # find w_reg\n",
    "    reg_mat = np.eye(len(dtrain_y)) * lamb\n",
    "    pinv_Z_reg = np.dot(np.matrix(np.dot(train_x, train_x.T)\n",
    "                                  +reg_mat).getI(), train_x)\n",
    "    w_reg = np.dot(pinv_Z_reg.T, dtrain_y)\n",
    "\n",
    "    # make predictions\n",
    "    pred_train_y = np.sign(np.dot(train_x, w_reg.T))\n",
    "    pred_train_y = np.array(pred_train_y).flatten()\n",
    "    pred_test_y = np.sign(np.dot(test_x, w_reg.T))\n",
    "    pred_test_y = np.array(pred_test_y).flatten()\n",
    "    \n",
    "    # in/out of sample error\n",
    "    E_in = np.not_equal(pred_train_y, dtrain_y).sum() / len(dtrain_y)\n",
    "    E_out = np.not_equal(pred_test_y, dtest_y).sum() / len(dtest_y)\n",
    "    return E_in, E_out"
   ]
  },
  {
   "cell_type": "code",
   "execution_count": 4,
   "metadata": {},
   "outputs": [],
   "source": [
    "# z = x = (1, x1, x2)\n",
    "train_x_trans = np.vstack(([1]*train_x.shape[1],\n",
    "                           train_x[0], train_x[1])).T\n",
    "test_x_trans = np.vstack(([1]*test_x.shape[1],\n",
    "                          test_x[0], test_x[1])).T\n",
    "\n",
    "# z = (1, x1, x2, x1x2, x1^2, x2^2)\n",
    "train_x_trans2 = np.vstack((train_x_trans.T,\n",
    "    train_x_trans.T[1]*train_x_trans.T[2],\n",
    "    train_x_trans.T[1]**2, train_x_trans.T[2]**2)).T\n",
    "test_x_trans2 = np.vstack((test_x_trans.T,\n",
    "    test_x_trans.T[1]*test_x_trans.T[2],\n",
    "    test_x_trans.T[1]**2, test_x_trans.T[2]**2)).T"
   ]
  },
  {
   "cell_type": "markdown",
   "metadata": {},
   "source": [
    "#### P7-9"
   ]
  },
  {
   "cell_type": "code",
   "execution_count": 5,
   "metadata": {},
   "outputs": [
    {
     "name": "stdout",
     "output_type": "stream",
     "text": [
      "\"0 vs all\":\n",
      "    No transformation: E_in = 0.109; E_out = 0.115;\n",
      "    With transformation: E_in = 0.102; E_out = 0.107;\n",
      "    Transformation improvement: 0.074\n",
      "\n",
      "\"1 vs all\":\n",
      "    No transformation: E_in = 0.015; E_out = 0.022;\n",
      "    With transformation: E_in = 0.012; E_out = 0.022;\n",
      "    Transformation improvement: 0.022\n",
      "\n",
      "\"2 vs all\":\n",
      "    No transformation: E_in = 0.100; E_out = 0.099;\n",
      "    With transformation: E_in = 0.100; E_out = 0.099;\n",
      "    Transformation improvement: 0.000\n",
      "\n",
      "\"3 vs all\":\n",
      "    No transformation: E_in = 0.090; E_out = 0.083;\n",
      "    With transformation: E_in = 0.090; E_out = 0.083;\n",
      "    Transformation improvement: 0.000\n",
      "\n",
      "\"4 vs all\":\n",
      "    No transformation: E_in = 0.089; E_out = 0.100;\n",
      "    With transformation: E_in = 0.089; E_out = 0.100;\n",
      "    Transformation improvement: 0.000\n",
      "\n",
      "\"5 vs all\":\n",
      "    No transformation: E_in = 0.076; E_out = 0.080;\n",
      "    With transformation: E_in = 0.076; E_out = 0.079;\n",
      "    Transformation improvement: 0.006\n",
      "\n",
      "\"6 vs all\":\n",
      "    No transformation: E_in = 0.091; E_out = 0.085;\n",
      "    With transformation: E_in = 0.091; E_out = 0.085;\n",
      "    Transformation improvement: 0.000\n",
      "\n",
      "\"7 vs all\":\n",
      "    No transformation: E_in = 0.088; E_out = 0.073;\n",
      "    With transformation: E_in = 0.088; E_out = 0.073;\n",
      "    Transformation improvement: 0.000\n",
      "\n",
      "\"8 vs all\":\n",
      "    No transformation: E_in = 0.074; E_out = 0.083;\n",
      "    With transformation: E_in = 0.074; E_out = 0.083;\n",
      "    Transformation improvement: 0.000\n",
      "\n",
      "\"9 vs all\":\n",
      "    No transformation: E_in = 0.088; E_out = 0.088;\n",
      "    With transformation: E_in = 0.088; E_out = 0.088;\n",
      "    Transformation improvement: 0.000\n",
      "\n"
     ]
    }
   ],
   "source": [
    "for d in range(0, 10):\n",
    "    # create one_vs_all labels\n",
    "    dtrain_y = np.ones_like(train_y)\n",
    "    dtrain_y[train_y!=d] = -1\n",
    "    dtest_y = np.ones_like(test_y)\n",
    "    dtest_y[test_y!=d] = -1\n",
    "    \n",
    "    E_in1, E_out1 = reg_lin(train_x_trans, dtrain_y,\n",
    "                            test_x_trans, dtest_y)\n",
    "    E_in2, E_out2 = reg_lin(train_x_trans2, dtrain_y,\n",
    "                            test_x_trans2, dtest_y)\n",
    "    print('\"{} vs all\":'.format(d))\n",
    "    print('    No transformation: E_in = {:.3f}; E_out = {:.3f};'\n",
    "          .format(E_in1, E_out1))\n",
    "    print('    With transformation: E_in = {:.3f}; E_out = {:.3f};'\n",
    "          .format(E_in2, E_out2))\n",
    "    print('    Transformation improvement: {:.3f}\\n'\n",
    "          .format((E_out1-E_out2)/E_out1))"
   ]
  },
  {
   "cell_type": "markdown",
   "metadata": {},
   "source": [
    "#### P10"
   ]
  },
  {
   "cell_type": "code",
   "execution_count": 6,
   "metadata": {},
   "outputs": [
    {
     "name": "stdout",
     "output_type": "stream",
     "text": [
      "\"1 vs. 5\":\n",
      "    Lambda = 1: E_in = 0.005; E_out = 0.026\n",
      "    Lambda = 0.01: E_in = 0.004; E_out = 0.028\n"
     ]
    }
   ],
   "source": [
    "# create 1 vs. 5 labels\n",
    "def data_for_1v1(x, y, digit1, digit2):\n",
    "    new_y = np.ones_like(y)\n",
    "    new_y[y==digit2] = -1\n",
    "    new_y = new_y[(y==digit1) | (y==digit2)]\n",
    "    new_x = x[(y==digit1) | (y==digit2)]\n",
    "    return new_x, new_y\n",
    "\n",
    "train_x_1v5, train_y_1v5 = data_for_1v1(train_x_trans2, train_y, 1, 5)\n",
    "test_x_1v5, test_y_1v5 = data_for_1v1(test_x_trans2, test_y, 1, 5)\n",
    "\n",
    "E_in1, E_out1 = reg_lin(train_x_1v5, train_y_1v5,\n",
    "                       test_x_1v5, test_y_1v5, lamb=1.)\n",
    "E_in2, E_out2 = reg_lin(train_x_1v5, train_y_1v5,\n",
    "                        test_x_1v5, test_y_1v5, lamb=0.01)\n",
    "print('\"1 vs. 5\":')\n",
    "print('    Lambda = 1: E_in = {:.3f}; E_out = {:.3f}'\n",
    "          .format(E_in1, E_out1))\n",
    "print('    Lambda = 0.01: E_in = {:.3f}; E_out = {:.3f}'\n",
    "          .format(E_in2, E_out2))"
   ]
  }
 ],
 "metadata": {
  "kernelspec": {
   "display_name": "Python 3",
   "language": "python",
   "name": "python3"
  },
  "language_info": {
   "codemirror_mode": {
    "name": "ipython",
    "version": 3
   },
   "file_extension": ".py",
   "mimetype": "text/x-python",
   "name": "python",
   "nbconvert_exporter": "python",
   "pygments_lexer": "ipython3",
   "version": "3.7.4"
  }
 },
 "nbformat": 4,
 "nbformat_minor": 2
}
