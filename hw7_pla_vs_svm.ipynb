{
 "cells": [
  {
   "cell_type": "markdown",
   "metadata": {},
   "source": [
    "### CS 156a HW7 P8-10\n",
    "Author: Liting Xiao."
   ]
  },
  {
   "cell_type": "code",
   "execution_count": 1,
   "metadata": {},
   "outputs": [],
   "source": [
    "import numpy as np\n",
    "from sklearn.linear_model import Perceptron\n",
    "from sklearn.svm import SVC"
   ]
  },
  {
   "cell_type": "code",
   "execution_count": 2,
   "metadata": {},
   "outputs": [],
   "source": [
    "# create target func f(x) = mx + b\n",
    "def create_target_func():\n",
    "    p1 = np.random.rand(2, 1) * 2 - 1\n",
    "    p2 = np.random.rand(2, 1) * 2 - 1\n",
    "    m = (p2[1] - p1[1]) / (p2[0] - p1[0])\n",
    "    b = p2[1] - m * p2[0]\n",
    "    return m, b"
   ]
  },
  {
   "cell_type": "code",
   "execution_count": 3,
   "metadata": {},
   "outputs": [],
   "source": [
    "def create_data_set(N, m, b):\n",
    "    X = np.random.rand(2, N) * 2 - 1\n",
    "    # defining point x_n above the line having y_n = 1\n",
    "    # while below the line having y_n = -1\n",
    "    Y = np.sign(X[1, :] - m * X[0, :] - b)\n",
    "    return X.T, Y"
   ]
  },
  {
   "cell_type": "code",
   "execution_count": 4,
   "metadata": {},
   "outputs": [],
   "source": [
    "# PLA and SVM training and testing\n",
    "def train_and_test(N_pt):\n",
    "    m, b = create_target_func()\n",
    "    \n",
    "    # create training set\n",
    "    train_x, train_y = create_data_set(N_pt, m, b)\n",
    "    while len(np.unique(train_y)) == 1:\n",
    "        train_x, train_y = create_data_set(N_pt, m, b)\n",
    "    \n",
    "    # create test set\n",
    "    N_test = 10000\n",
    "    test_x, test_y = create_data_set(N_test, m, b)\n",
    "    \n",
    "    # PLA\n",
    "    pla = Perceptron()\n",
    "    pla.fit(train_x, train_y)\n",
    "    err_pla = np.sum(np.equal(pla.predict(test_x), test_y))\\\n",
    "        / float(N_test)\n",
    "\n",
    "    # SVM\n",
    "    svc = SVC(C=np.inf, kernel='linear')\n",
    "    svc.fit(train_x, train_y)\n",
    "    err_svc = np.sum(np.equal(svc.predict(test_x), test_y))\\\n",
    "        / float(N_test)\n",
    "    \n",
    "    if N_pt == 100:\n",
    "        return err_pla, err_svc, svc.support_vectors_.shape[0]\n",
    "    else:\n",
    "        return err_pla, err_svc"
   ]
  },
  {
   "cell_type": "markdown",
   "metadata": {},
   "source": [
    "#### P8-10"
   ]
  },
  {
   "cell_type": "code",
   "execution_count": 5,
   "metadata": {},
   "outputs": [
    {
     "name": "stdout",
     "output_type": "stream",
     "text": [
      "8. For N = 10, 61.90% of time SVM works better than PLA.\n",
      "9. For N = 100, 79.20% of time SVM works better than PLA.\n",
      "10. For N = 100, average number of SVMs is 3.00.\n"
     ]
    }
   ],
   "source": [
    "N10, N100, Nsvm = 0, 0, []\n",
    "\n",
    "# repeat experiment for 1000 times\n",
    "N_exp = 1000\n",
    "for i in range(N_exp):\n",
    "    # when N = 10 points\n",
    "    err_pla1, err_svc1 = train_and_test(10)\n",
    "    if err_svc1 > err_pla1: N10 += 1\n",
    "    \n",
    "    # when N = 100 points\n",
    "    err_pla2, err_svc2, n_svm = train_and_test(100)\n",
    "    Nsvm.append(n_svm)\n",
    "    if err_svc2 > err_pla2: N100 += 1\n",
    "\n",
    "print('8. For N = 10, {:.2f}% of time SVM works better than PLA.'\n",
    "      .format(N10 / float(N_exp) * 100))\n",
    "print('9. For N = 100, {:.2f}% of time SVM works better than PLA.'\n",
    "      .format(N100 / float(N_exp) * 100))\n",
    "print('10. For N = 100, average number of SVMs is {:.2f}.'\n",
    "      .format(np.mean(Nsvm)))"
   ]
  }
 ],
 "metadata": {
  "kernelspec": {
   "display_name": "Python 3",
   "language": "python",
   "name": "python3"
  },
  "language_info": {
   "codemirror_mode": {
    "name": "ipython",
    "version": 3
   },
   "file_extension": ".py",
   "mimetype": "text/x-python",
   "name": "python",
   "nbconvert_exporter": "python",
   "pygments_lexer": "ipython3",
   "version": "3.7.4"
  }
 },
 "nbformat": 4,
 "nbformat_minor": 2
}
