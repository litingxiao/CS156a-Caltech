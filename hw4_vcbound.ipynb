{
 "cells": [
  {
   "cell_type": "markdown",
   "metadata": {},
   "source": [
    "## CS 156a, HW #4, P1-3\n",
    "### Author: Liting Xiao"
   ]
  },
  {
   "cell_type": "markdown",
   "metadata": {},
   "source": [
    "This notebook:\n",
    "- compares different generalization bounds (*VC, Rademacher Penalty, Parrondo and Van den Broek, Devroye*) numerically"
   ]
  },
  {
   "cell_type": "code",
   "execution_count": 1,
   "metadata": {},
   "outputs": [],
   "source": [
    "import numpy as np\n",
    "import matplotlib\n",
    "matplotlib.rcParams.update({'font.family': 'STIXGeneral',\\\n",
    "        'font.size': 16, 'text.usetex': True})\n",
    "import matplotlib.pyplot as plt"
   ]
  },
  {
   "cell_type": "markdown",
   "metadata": {},
   "source": [
    "#### P1: Calculate N using VC  bound"
   ]
  },
  {
   "cell_type": "code",
   "execution_count": 2,
   "metadata": {},
   "outputs": [],
   "source": [
    "# def: sigma = 1 - confidence, f_err = desired final error\n",
    "# init with N = 0, epsilon = 1\n",
    "def vc_get_N(d_vc, sigma, f_err, epsilon=1, N=0):\n",
    "    while epsilon > f_err:\n",
    "        N += 1\n",
    "        epsilon = np.sqrt(8 / N * np.log(4 * (2 * N)**d_vc / sigma))\n",
    "    return N"
   ]
  },
  {
   "cell_type": "code",
   "execution_count": 3,
   "metadata": {
    "scrolled": true
   },
   "outputs": [
    {
     "name": "stdout",
     "output_type": "stream",
     "text": [
      "The number of points needed is at least 452957.\n"
     ]
    }
   ],
   "source": [
    "print('The number of points needed is at least {}.'.format(vc_get_N(10, 0.05, 0.05)))"
   ]
  },
  {
   "cell_type": "markdown",
   "metadata": {},
   "source": [
    "***Thus, the closest number in the choices is [d].***"
   ]
  },
  {
   "cell_type": "markdown",
   "metadata": {},
   "source": [
    "#### P2: multiple bounds"
   ]
  },
  {
   "cell_type": "code",
   "execution_count": 4,
   "metadata": {},
   "outputs": [],
   "source": [
    "def vc_bound(d_vc, sigma, N):\n",
    "    return np.sqrt(8 / N * (np.log(4 / sigma) + d_vc * np.log(2 * N)))"
   ]
  },
  {
   "cell_type": "code",
   "execution_count": 5,
   "metadata": {},
   "outputs": [],
   "source": [
    "def rademacher_bound(d_vc, sigma, N):\n",
    "    return np.sqrt(2 * (np.log(2 * N) + d_vc * np.log(2 * N)) / N) +\\\n",
    "           np.sqrt(-2 / N * np.log(sigma)) + 1 / N"
   ]
  },
  {
   "cell_type": "code",
   "execution_count": 6,
   "metadata": {},
   "outputs": [],
   "source": [
    "def parrondo_vdb_bound(d_vc, sigma, N, epsilon=1):\n",
    "    e_new = np.sqrt((2 * epsilon + (np.log(6 / sigma)\\\n",
    "                                     + d_vc * np.log(2 * N))) / N)\n",
    "    while abs(e_new - epsilon).any() > 1e-6:\n",
    "        epsilon = e_new\n",
    "        e_new = np.sqrt((2 * epsilon + (np.log(6 / sigma)\\\n",
    "                                         + d_vc * np.log(2 * N))) / N)\n",
    "    return e_new"
   ]
  },
  {
   "cell_type": "code",
   "execution_count": 7,
   "metadata": {},
   "outputs": [],
   "source": [
    "def devroye_bound(d_vc, sigma, N, epsilon=1):\n",
    "    e_new = np.sqrt((4 * epsilon * (1 + epsilon) +\\\n",
    "        (np.log(4 / sigma) + 2 * d_vc * np.log(N))) / 2 / N)\n",
    "    while abs(e_new - epsilon).any() > 1e-6:\n",
    "        epsilon = e_new\n",
    "        e_new = np.sqrt((4 * epsilon * (1 + epsilon) +\\\n",
    "            (np.log(4 / sigma) + 2 * d_vc * np.log(N))) / 2 / N)\n",
    "    return e_new"
   ]
  },
  {
   "cell_type": "code",
   "execution_count": 8,
   "metadata": {},
   "outputs": [
    {
     "data": {
      "image/png": "[encoded data removed]",
      "text/plain": [
       "<Figure size 504x360 with 1 Axes>"
      ]
     },
     "metadata": {
      "needs_background": "light"
     },
     "output_type": "display_data"
    }
   ],
   "source": [
    "N = np.arange(9000, 10001)\n",
    "d_vc, sigma= 50, 0.05\n",
    "plt.figure(figsize=(7, 5))\n",
    "plt.plot(N, vc_bound(d_vc, sigma, N), label='VC')\n",
    "plt.plot(N, rademacher_bound(d_vc, sigma, N), label='Rademacher')\n",
    "plt.plot(N, parrondo_vdb_bound(d_vc, sigma, N), label='Parrondo\\_VdB')\n",
    "plt.plot(N, devroye_bound(d_vc, sigma, N), label='Devroye')\n",
    "plt.xlim([9000, 10000])\n",
    "plt.xlabel('$N$')\n",
    "plt.ylabel('$\\epsilon$')\n",
    "plt.legend()\n",
    "plt.show()"
   ]
  },
  {
   "cell_type": "markdown",
   "metadata": {},
   "source": [
    "***Thus, the smallest bound in the choices is [d].***"
   ]
  },
  {
   "cell_type": "markdown",
   "metadata": {},
   "source": [
    "#### P3: "
   ]
  },
  {
   "cell_type": "code",
   "execution_count": 9,
   "metadata": {
    "scrolled": true
   },
   "outputs": [
    {
     "name": "stdout",
     "output_type": "stream",
     "text": [
      "VC bound at d_vc=50, sigma=0.05, N=5 is 13.83.\n",
      "Rademacher bound at d_vc=50, sigma=0.05, N=5 is 8.15.\n",
      "Parrondo and Van den Broek bound at d_vc=50, sigma=0.05, N=5 is 5.10.\n",
      "Devroye bound at d_vc=50, sigma=0.05, N=5 is 5.59.\n"
     ]
    }
   ],
   "source": [
    "print('VC bound at d_vc=50, sigma=0.05, N=5 is {:.2f}.'\n",
    "      .format(vc_bound(d_vc, sigma, 5)))\n",
    "print('Rademacher bound at d_vc=50, sigma=0.05, N=5 is {:.2f}.'\n",
    "      .format(rademacher_bound(d_vc, sigma, 5)))\n",
    "print('Parrondo and Van den Broek bound at d_vc=50, sigma=0.05, N=5 is {:.2f}.'\n",
    "      .format(parrondo_vdb_bound(d_vc, sigma, 5)))\n",
    "print('Devroye bound at d_vc=50, sigma=0.05, N=5 is {:.2f}.'\n",
    "      .format(devroye_bound(d_vc, sigma, 5)))"
   ]
  },
  {
   "cell_type": "markdown",
   "metadata": {},
   "source": [
    "***Thus, the smallest bound at N = 5 is [c].***"
   ]
  }
 ],
 "metadata": {
  "kernelspec": {
   "display_name": "Python 3",
   "language": "python",
   "name": "python3"
  },
  "language_info": {
   "codemirror_mode": {
    "name": "ipython",
    "version": 3
   },
   "file_extension": ".py",
   "mimetype": "text/x-python",
   "name": "python",
   "nbconvert_exporter": "python",
   "pygments_lexer": "ipython3",
   "version": "3.9.4"
  }
 },
 "nbformat": 4,
 "nbformat_minor": 2
}
