{
 "cells": [
  {
   "cell_type": "markdown",
   "metadata": {},
   "source": [
    "### CS 156a, HW2, Problems 5-10\n",
    "**Author: Liting Xiao**"
   ]
  },
  {
   "cell_type": "code",
   "execution_count": 1,
   "metadata": {},
   "outputs": [],
   "source": [
    "import numpy as np"
   ]
  },
  {
   "cell_type": "code",
   "execution_count": 2,
   "metadata": {},
   "outputs": [],
   "source": [
    "# create target func y = mx + b\n",
    "def create_target_func():\n",
    "    p1 = np.random.rand(2, 1) * 2 - 1\n",
    "    p2 = np.random.rand(2, 1) * 2 - 1\n",
    "    m = (p2[1] - p1[1]) / (p2[0] - p1[0])\n",
    "    b = p2[1] - m * p2[0]\n",
    "    return m, b"
   ]
  },
  {
   "cell_type": "code",
   "execution_count": 3,
   "metadata": {},
   "outputs": [],
   "source": [
    "def create_data_set(N, m, b):\n",
    "    X = np.random.rand(2, N) * 2 - 1\n",
    "    # defining point x_n above the line having y_n = 1\n",
    "    # while below the line having y_n = -1\n",
    "    Y = np.sign(X[1, :] - m * X[0, :] - b)\n",
    "    return X, Y"
   ]
  },
  {
   "cell_type": "code",
   "execution_count": 4,
   "metadata": {},
   "outputs": [],
   "source": [
    "def linear_regression(X, Y):\n",
    "    X = np.vstack((np.ones(np.size(X, 1)), X))\n",
    "    pinv_X = np.matmul(np.linalg.pinv(np.matmul(X, X.T)), X)\n",
    "    return np.matmul(pinv_X, Y)"
   ]
  },
  {
   "cell_type": "code",
   "execution_count": 5,
   "metadata": {},
   "outputs": [],
   "source": [
    "def eval_err(w, X, Y):\n",
    "    xcheck = np.vstack((np.ones(np.size(X, 1)), X))\n",
    "    ycheck = np.sign(np.sum(w * xcheck.T, axis=1))\n",
    "    frac = sum(np.not_equal(Y, ycheck)) / np.size(X, 1)\n",
    "    return frac"
   ]
  },
  {
   "cell_type": "markdown",
   "metadata": {},
   "source": [
    "**Problems 5-6**"
   ]
  },
  {
   "cell_type": "code",
   "execution_count": 6,
   "metadata": {},
   "outputs": [
    {
     "name": "stdout",
     "output_type": "stream",
     "text": [
      "The average initial E_in is 0.04033\n",
      "The average initial E_out is 0.049242\n"
     ]
    }
   ],
   "source": [
    "N_ein, N_eout = 100, 1000\n",
    "Ein_list, Eout_list = [], []\n",
    "N_exp = 1000\n",
    "\n",
    "for i in range(N_exp):\n",
    "    m_true, b_true = create_target_func()\n",
    "    \n",
    "    # linear regression and find in sample error\n",
    "    X_ein, Y_ein = create_data_set(N_ein, m_true, b_true)\n",
    "    init_w = linear_regression(X_ein, Y_ein)\n",
    "    Ein_list.append(eval_err(init_w, X_ein, Y_ein))\n",
    "    \n",
    "    # find out of sample error\n",
    "    X_eout, Y_eout = create_data_set(N_eout, m_true, b_true)\n",
    "    Eout_list.append(eval_err(init_w, X_eout, Y_eout)) \n",
    "    \n",
    "print('The average initial E_in is {}'.format(np.mean(Ein_list)))\n",
    "print('The average initial E_out is {}'.format(np.mean(Eout_list)))"
   ]
  },
  {
   "cell_type": "markdown",
   "metadata": {},
   "source": [
    "**Problem 7**"
   ]
  },
  {
   "cell_type": "code",
   "execution_count": 7,
   "metadata": {},
   "outputs": [],
   "source": [
    "# create PLA for training\n",
    "def pla(w, X, Y):\n",
    "    # shuffle the data set\n",
    "    shuffle_idx = np.random.permutation(len(Y))\n",
    "    X, Y = X[:, shuffle_idx], Y[shuffle_idx]\n",
    "        \n",
    "    # add x0 = 1 term\n",
    "    xcheck = np.vstack((np.ones(np.size(X, 1)), X)).T\n",
    "    ycheck = np.sign(np.sum(w * xcheck, axis=1))\n",
    "        \n",
    "    # train\n",
    "    conv = 0\n",
    "    while sum(np.not_equal(Y, ycheck)) != 0:\n",
    "        idx = np.not_equal(Y, ycheck)\n",
    "        x = xcheck[idx][np.random.randint(sum(idx))]\n",
    "        y = Y[idx][np.random.randint(sum(idx))]\n",
    "                    \n",
    "        w += y * x\n",
    "        ycheck = np.sign(np.sum(w * xcheck, axis=1))\n",
    "        conv += 1\n",
    "\n",
    "    return conv"
   ]
  },
  {
   "cell_type": "code",
   "execution_count": 8,
   "metadata": {},
   "outputs": [
    {
     "name": "stdout",
     "output_type": "stream",
     "text": [
      "Average number of iterations to converge for 10 training points: 4.967\n"
     ]
    }
   ],
   "source": [
    "# training\n",
    "# num of data points\n",
    "N_pt = 10\n",
    "conv_list = []\n",
    "\n",
    "for i in range(N_exp):\n",
    "    # create target function and data set\n",
    "    m, b = create_target_func()\n",
    "    X, Y = create_data_set(N_pt, m, b)\n",
    "\n",
    "    # linear regression to get initial weight\n",
    "    init_w = linear_regression(X, Y)\n",
    "\n",
    "    # PLA\n",
    "    conv_list.append(pla(init_w, X, Y))\n",
    "    \n",
    "print('Average number of iterations to converge for '\n",
    "      '{} training points: {}'.format(N_pt, np.mean(conv_list)))"
   ]
  },
  {
   "cell_type": "markdown",
   "metadata": {},
   "source": [
    "**Problem 8-10**"
   ]
  },
  {
   "cell_type": "code",
   "execution_count": 9,
   "metadata": {},
   "outputs": [],
   "source": [
    "def create_data_set_nonlinear(N):\n",
    "    X = np.random.rand(2, N) * 2 - 1\n",
    "    Y = np.sign(np.power(X[0, :], 2) + np.power(X[1, :], 2) - 0.6)\n",
    "    # flip 10% of the data set's Y to add in noise\n",
    "    idx = np.random.permutation(len(Y))[:int(0.1*N)]\n",
    "    Y[idx] *= -1\n",
    "    return X, Y"
   ]
  },
  {
   "cell_type": "code",
   "execution_count": 10,
   "metadata": {},
   "outputs": [],
   "source": [
    "def nonlinear_transformation(X):\n",
    "    X_tr = np.vstack((X, X[0, :]*X[1, :]))\n",
    "    X_tr = np.vstack((X_tr, np.power(X[0, :], 2)))\n",
    "    X_tr = np.vstack((X_tr, np.power(X[1, :], 2)))\n",
    "    return X_tr"
   ]
  },
  {
   "cell_type": "code",
   "execution_count": 11,
   "metadata": {},
   "outputs": [
    {
     "name": "stdout",
     "output_type": "stream",
     "text": [
      "The average E_in without nonlinear transformation is 0.5049859999999999\n",
      "\n",
      "The hypothesis found after nonlinear transformation is: \n",
      "g = sign(-0.9926073428076996 + 0.0005753865673439148*x1 + -0.003116924795875*x2 + -0.0019579603156029703*x1*x2 + 1.5563611193118378*x1^2 + 1.5596762408388483*x2^2) \n",
      "\n",
      "The average E_out on test sets after nonlinear transformation is 0.12390000000000001\n",
      "\n"
     ]
    }
   ],
   "source": [
    "N_pt = 1000\n",
    "Ein_no_tr, w_tr, Eout_test = [], [], []\n",
    "for i in range(N_exp):\n",
    "    X, Y = create_data_set_nonlinear(N_pt)\n",
    "\n",
    "    # linear regression without nonlinear transformation\n",
    "    w_no_tr = linear_regression(X, Y)\n",
    "    Ein_no_tr.append(eval_err(w_no_tr, X, Y))\n",
    "    \n",
    "    # nonlinear transformation to get new features\n",
    "    X_tr = nonlinear_transformation(X)\n",
    "    \n",
    "    # linear regression with nonlinear transformation\n",
    "    w_tr.append(linear_regression(X_tr, Y))\n",
    "    \n",
    "    # use a test set to get out of sample error\n",
    "    X_test, Y_test = create_data_set_nonlinear(N_pt)\n",
    "    X_test_tr = nonlinear_transformation(X_test)\n",
    "    w_test = linear_regression(X_test_tr, Y_test)\n",
    "    Eout_test.append(eval_err(w_test, X_test_tr, Y_test))\n",
    "    \n",
    "print('The average E_in without '\n",
    "      'nonlinear transformation is {}\\n'.format(np.mean(Ein_no_tr)))\n",
    "\n",
    "best_w = np.mean(w_tr, axis=0)\n",
    "print('The hypothesis found after nonlinear transformation is: \\n'\n",
    "      'g = sign({} + {}*x1 + {}*x2 + {}*x1*x2 + {}*x1^2 + {}*x2^2) \\n'\n",
    "      .format(best_w[0], best_w[1], best_w[2],\n",
    "              best_w[3], best_w[4], best_w[5]))\n",
    "\n",
    "print('The average E_out on test sets after '\n",
    "      'nonlinear transformation is {}\\n'.format(np.mean(Eout_test)))"
   ]
  }
 ],
 "metadata": {
  "kernelspec": {
   "display_name": "Python 3",
   "language": "python",
   "name": "python3"
  },
  "language_info": {
   "codemirror_mode": {
    "name": "ipython",
    "version": 3
   },
   "file_extension": ".py",
   "mimetype": "text/x-python",
   "name": "python",
   "nbconvert_exporter": "python",
   "pygments_lexer": "ipython3",
   "version": "3.7.4"
  }
 },
 "nbformat": 4,
 "nbformat_minor": 2
}
