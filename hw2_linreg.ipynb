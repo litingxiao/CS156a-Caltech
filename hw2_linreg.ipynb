{
 "cells": [
  {
   "cell_type": "markdown",
   "metadata": {},
   "source": [
    "## CS 156a, HW2, Problems 5-10\n",
    "### Author: Liting Xiao"
   ]
  },
  {
   "cell_type": "markdown",
   "metadata": {},
   "source": [
    "This notebook:\n",
    "\n",
    "- creates target functions of a line separating 2 classes {-1, 1}\n",
    "- generates linearly seperable training/testing sets\n",
    "- computes E_in and E_out for using **Linear Regression for classification**\n",
    "- computes the number of iterations before **PLA**'s convergence with linear regression's input initial weights\n",
    "- performs **non-linear transformation** and compares how much it improves over plain linear regression"
   ]
  },
  {
   "cell_type": "code",
   "execution_count": 1,
   "metadata": {},
   "outputs": [],
   "source": [
    "import numpy as np\n",
    "import matplotlib.pyplot as plt"
   ]
  },
  {
   "cell_type": "code",
   "execution_count": 2,
   "metadata": {},
   "outputs": [],
   "source": [
    "# create target func f(x) = mx + b\n",
    "# input space is [-1, 1] x [-1, 1]\n",
    "def create_target_func():\n",
    "    (x1, y1), (x2, y2) = np.random.uniform(-1, 1, (2, 2))\n",
    "    m = (y2 - y1) / (x2 - x1)\n",
    "    b = y1 - m * x1\n",
    "    return m, b"
   ]
  },
  {
   "cell_type": "code",
   "execution_count": 3,
   "metadata": {},
   "outputs": [],
   "source": [
    "# defining point x_n above the line having y_n = 1\n",
    "# while below the line having y_n = -1\n",
    "def create_data_set(N, m, b):\n",
    "    X = np.random.uniform(-1, 1, (2, N))\n",
    "    Y = np.sign(X[1, :] - m * X[0, :] - b)\n",
    "    return X, Y"
   ]
  },
  {
   "cell_type": "code",
   "execution_count": 4,
   "metadata": {},
   "outputs": [],
   "source": [
    "# linear regression closed form solution\n",
    "def linear_regression(X, Y):\n",
    "    X = np.vstack((np.ones(X.shape[1]), X))\n",
    "    X_dagger = np.linalg.pinv(X @ X.T) @ X\n",
    "    return X_dagger @ Y"
   ]
  },
  {
   "cell_type": "code",
   "execution_count": 5,
   "metadata": {},
   "outputs": [],
   "source": [
    "# evaluate in_sample or out_of_sample errors\n",
    "def eval_err(w, X, Y):\n",
    "    xcheck = np.vstack((np.ones(X.shape[1]), X))\n",
    "    ycheck = np.sign(np.sum(w * xcheck.T, axis=1))\n",
    "    return sum(Y != ycheck) / len(Y)"
   ]
  },
  {
   "cell_type": "code",
   "execution_count": 6,
   "metadata": {},
   "outputs": [],
   "source": [
    "# PLA for training\n",
    "def pla(w, X, Y):\n",
    "    # shuffle the data set\n",
    "    shuffle_idx = np.random.permutation(len(Y))\n",
    "    X, Y = X[:, shuffle_idx], Y[shuffle_idx]\n",
    "        \n",
    "    # add x0 = 1 term\n",
    "    xcheck = np.vstack((np.ones(X.shape[1]), X)).T\n",
    "    ycheck = np.sign(np.sum(w * xcheck, axis=1))\n",
    "        \n",
    "    # train\n",
    "    conv = 0\n",
    "    while sum(Y != ycheck) != 0:\n",
    "        mask = (Y != ycheck)\n",
    "        idx = np.random.randint(sum(mask))\n",
    "        x = xcheck[mask][idx]\n",
    "        y = Y[mask][idx]\n",
    "                    \n",
    "        w += y * x\n",
    "        ycheck = np.sign(np.sum(w * xcheck, axis=1))\n",
    "        conv += 1\n",
    "\n",
    "    return conv"
   ]
  },
  {
   "cell_type": "markdown",
   "metadata": {},
   "source": [
    "**Problems 5-7**"
   ]
  },
  {
   "cell_type": "code",
   "execution_count": 7,
   "metadata": {},
   "outputs": [
    {
     "name": "stdout",
     "output_type": "stream",
     "text": [
      "The average linear regression E_in: 0.039\n",
      "The average linear regression E_out: 0.048\n",
      "Average number of iterations for PLA to converge after linear regression for 10 training points: 5\n"
     ]
    }
   ],
   "source": [
    "N_ein, N_eout, N_pla = 100, 1000, 10\n",
    "Ein, Eout, pla_conv = [], [], []\n",
    "N_exp = 1000\n",
    "\n",
    "for _ in range(N_exp):\n",
    "    m_true, b_true = create_target_func()\n",
    "    \n",
    "    # linear regression and find in sample error\n",
    "    X_ein, Y_ein = create_data_set(N_ein, m_true, b_true)\n",
    "    init_w = linear_regression(X_ein, Y_ein)\n",
    "    Ein.append(eval_err(init_w, X_ein, Y_ein))\n",
    "    \n",
    "    # find out of sample error\n",
    "    X_eout, Y_eout = create_data_set(N_eout, m_true, b_true)\n",
    "    Eout.append(eval_err(init_w, X_eout, Y_eout)) \n",
    "    \n",
    "    # PLA\n",
    "    X_pla, Y_pla = create_data_set(N_pla, m_true, b_true)\n",
    "    pla_conv.append(pla(init_w, X_pla, Y_pla))\n",
    "    \n",
    "print('The average linear regression E_in: {:.3f}'.format(np.mean(Ein)))\n",
    "print('The average linear regression E_out: {:.3f}'.format(np.mean(Eout)))\n",
    "print('Average number of iterations for PLA to converge after linear regression '\n",
    "      'for {} training points: {:.0f}'.format(N_pla, np.mean(pla_conv)))"
   ]
  },
  {
   "cell_type": "markdown",
   "metadata": {},
   "source": [
    "**Problem 8-10**"
   ]
  },
  {
   "cell_type": "code",
   "execution_count": 8,
   "metadata": {},
   "outputs": [],
   "source": [
    "# target function: f(x1, x2) = sign(x1^2 + x2^2 − 0.6)\n",
    "def create_data_set_nonlinear(N):\n",
    "    X = np.random.uniform(-1, 1, (2, N))\n",
    "    Y = np.sign(X[0, :] ** 2 + X[1, :] ** 2 - 0.6)\n",
    "    # flip 10% of Y to add in noise\n",
    "    idx = np.random.permutation(len(Y))[:int(0.1*N)]\n",
    "    Y[idx] *= -1\n",
    "    return X, Y"
   ]
  },
  {
   "cell_type": "code",
   "execution_count": 9,
   "metadata": {},
   "outputs": [],
   "source": [
    "# use feature vector (1, x1, x2, x1 * x2, x1^2, x2^2)\n",
    "def nonlinear_transformation(X):\n",
    "    X_tr = np.vstack((X, X[0, :] * X[1, :]))\n",
    "    X_tr = np.vstack((X_tr, X[0, :] ** 2))\n",
    "    X_tr = np.vstack((X_tr, X[1, :] ** 2))\n",
    "    return X_tr"
   ]
  },
  {
   "cell_type": "code",
   "execution_count": 10,
   "metadata": {},
   "outputs": [
    {
     "data": {
      "image/png": "[encoded data removed]",
      "text/plain": [
       "<Figure size 432x288 with 1 Axes>"
      ]
     },
     "metadata": {
      "needs_background": "light"
     },
     "output_type": "display_data"
    }
   ],
   "source": [
    "# visualize the non-linear dataset\n",
    "X, Y = create_data_set_nonlinear(500)\n",
    "\n",
    "plt.scatter(X[0, Y==1], X[1, Y==1], marker='+')\n",
    "plt.scatter(X[0, Y==-1], X[1, Y==-1], marker='_')\n",
    "plt.xlim([-1, 1])\n",
    "plt.ylim([-1, 1])\n",
    "plt.xlabel('x')\n",
    "plt.ylabel('y')\n",
    "plt.show()"
   ]
  },
  {
   "cell_type": "code",
   "execution_count": 11,
   "metadata": {},
   "outputs": [
    {
     "name": "stdout",
     "output_type": "stream",
     "text": [
      "The average E_in without nonlinear transformation is 0.5\n",
      "\n",
      "The hypothesis found after nonlinear transformation is: \n",
      "g = sign(-0.99 + -0.00*x1 + 0.00*x2 + 0.00*x1*x2 + 1.56*x1^2 + 1.55*x2^2) \n",
      "\n",
      "The average E_out on test sets after nonlinear transformation is 0.1\n",
      "\n"
     ]
    }
   ],
   "source": [
    "N_pt = 1000\n",
    "Ein_no_tr, w_tr, Eout_test = [], [], []\n",
    "\n",
    "for _ in range(N_exp):\n",
    "    X, Y = create_data_set_nonlinear(N_pt)\n",
    "\n",
    "    # linear regression without nonlinear transformation\n",
    "    w_no_tr = linear_regression(X, Y)\n",
    "    Ein_no_tr.append(eval_err(w_no_tr, X, Y))\n",
    "    \n",
    "    # nonlinear transformation to get new features\n",
    "    X_tr = nonlinear_transformation(X)\n",
    "    \n",
    "    # linear regression with nonlinear transformation\n",
    "    w_tr.append(linear_regression(X_tr, Y))\n",
    "    \n",
    "    # use a test set to get out of sample error\n",
    "    X_test, Y_test = create_data_set_nonlinear(N_pt)\n",
    "    X_test_tr = nonlinear_transformation(X_test)\n",
    "    Eout_test.append(eval_err(w_tr[-1], X_test_tr, Y_test))\n",
    "    \n",
    "print('The average E_in without '\n",
    "      'nonlinear transformation is {:.1f}\\n'.format(np.mean(Ein_no_tr)))\n",
    "\n",
    "best_w = np.mean(w_tr, axis=0)\n",
    "print('The hypothesis found after nonlinear transformation is: \\n'\n",
    "      'g = sign({:.2f} + {:.2f}*x1 + {:.2f}*x2 + {:.2f}*x1*x2 + {:.2f}*x1^2 + {:.2f}*x2^2) \\n'\n",
    "      .format(best_w[0], best_w[1], best_w[2], best_w[3], best_w[4], best_w[5]))\n",
    "\n",
    "print('The average E_out on test sets after '\n",
    "      'nonlinear transformation is {:.1f}\\n'.format(np.mean(Eout_test)))"
   ]
  }
 ],
 "metadata": {
  "kernelspec": {
   "display_name": "Python 3",
   "language": "python",
   "name": "python3"
  },
  "language_info": {
   "codemirror_mode": {
    "name": "ipython",
    "version": 3
   },
   "file_extension": ".py",
   "mimetype": "text/x-python",
   "name": "python",
   "nbconvert_exporter": "python",
   "pygments_lexer": "ipython3",
   "version": "3.9.4"
  }
 },
 "nbformat": 4,
 "nbformat_minor": 2
}
