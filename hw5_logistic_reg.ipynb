{
 "cells": [
  {
   "cell_type": "markdown",
   "metadata": {},
   "source": [
    "## CS 156a, HW #5, Problems 8-9\n",
    "### Author: Liting Xiao"
   ]
  },
  {
   "cell_type": "markdown",
   "metadata": {},
   "source": [
    "This notebook:\n",
    "- implements logistic regression for the same target function that we've implemented linear regression"
   ]
  },
  {
   "cell_type": "code",
   "execution_count": 1,
   "metadata": {},
   "outputs": [],
   "source": [
    "import numpy as np"
   ]
  },
  {
   "cell_type": "code",
   "execution_count": 2,
   "metadata": {},
   "outputs": [],
   "source": [
    "# create target func f(x) = mx + b\n",
    "def create_target_func():\n",
    "    (x1, y1), (x2, y2) = np.random.uniform(-1, 1, (2, 2))\n",
    "    m = (y2 - y1) / (x2 - x1)\n",
    "    b = y1 - m * x1\n",
    "    return m, b"
   ]
  },
  {
   "cell_type": "code",
   "execution_count": 3,
   "metadata": {},
   "outputs": [],
   "source": [
    "# defining point x_n above the line having y_n = 1\n",
    "# while below the line having y_n = -1\n",
    "def create_data_set(N, m, b):\n",
    "    X = np.random.uniform(-1, 1, (2, N))\n",
    "    Y = np.sign(X[1, :] - m * X[0, :] - b)\n",
    "    return X, Y"
   ]
  },
  {
   "cell_type": "code",
   "execution_count": 4,
   "metadata": {},
   "outputs": [],
   "source": [
    "def logistic_reg(X, Y, eta=0.01):\n",
    "    # add x0 = 1\n",
    "    X = np.vstack((np.ones(X.shape[1]), X))\n",
    "    \n",
    "    # shuffle the data set\n",
    "    shuffle_idx = np.random.permutation(len(Y))\n",
    "    X, Y = X[:, shuffle_idx], Y[shuffle_idx]\n",
    "\n",
    "    # initialize weights\n",
    "    w = np.zeros(X.shape[0])\n",
    "    w_new = np.copy(w)\n",
    "    \n",
    "    # train\n",
    "    epoch, epsilon = 0, 1\n",
    "    while epsilon >= 0.01:    # stopping condition: the norm of weights changes < 0.01\n",
    "        # SGD for each epoch\n",
    "        for x, y in zip(X.T, Y):\n",
    "            dE = - y * x / (1 + np.exp(y * np.dot(w, x)))\n",
    "            w_new -= eta * dE\n",
    "        \n",
    "        epsilon = np.linalg.norm(w - w_new)\n",
    "        w = np.copy(w_new)\n",
    "        epoch += 1\n",
    "        \n",
    "    return w, epoch"
   ]
  },
  {
   "cell_type": "code",
   "execution_count": 5,
   "metadata": {},
   "outputs": [],
   "source": [
    "def cross_entropy(w, X, Y):\n",
    "    X = np.vstack((np.ones(X.shape[1]), X))\n",
    "    err = np.mean(np.log(1 + np.exp(-Y * np.dot(w, X))))\n",
    "    return err"
   ]
  },
  {
   "cell_type": "code",
   "execution_count": 6,
   "metadata": {},
   "outputs": [
    {
     "name": "stdout",
     "output_type": "stream",
     "text": [
      "The average E_out for 100 training points is 0.100\n",
      "The average epoch for convergence is 339\n"
     ]
    }
   ],
   "source": [
    "N_pt, N_exp, N_epoch = 100, 100, []\n",
    "N_eout, E_out = 100, []\n",
    "for _ in range(N_exp):\n",
    "    m_true, b_true = create_target_func()\n",
    "    X, Y = create_data_set(N_pt, m_true, b_true)\n",
    "    \n",
    "    w, epoch = logistic_reg(X, Y)\n",
    "    N_epoch.append(epoch)\n",
    "    \n",
    "    # find E_out\n",
    "    X_eout, Y_eout = create_data_set(N_eout, m_true, b_true)\n",
    "    E_out.append(cross_entropy(w, X_eout, Y_eout)) \n",
    "    \n",
    "print('The average E_out for 100 training points is {:.3f}'.format(np.mean(E_out)))\n",
    "print('The average epoch for convergence is {:.0f}'.format(np.mean(N_epoch)))"
   ]
  }
 ],
 "metadata": {
  "kernelspec": {
   "display_name": "Python 3",
   "language": "python",
   "name": "python3"
  },
  "language_info": {
   "codemirror_mode": {
    "name": "ipython",
    "version": 3
   },
   "file_extension": ".py",
   "mimetype": "text/x-python",
   "name": "python",
   "nbconvert_exporter": "python",
   "pygments_lexer": "ipython3",
   "version": "3.9.4"
  }
 },
 "nbformat": 4,
 "nbformat_minor": 2
}
