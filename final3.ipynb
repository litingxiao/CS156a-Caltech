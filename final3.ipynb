{
 "cells": [
  {
   "cell_type": "markdown",
   "metadata": {},
   "source": [
    "### CS 156a, Final, P13-18\n",
    "Author: Liting Xiao"
   ]
  },
  {
   "cell_type": "code",
   "execution_count": 1,
   "metadata": {},
   "outputs": [],
   "source": [
    "import numpy as np\n",
    "from sklearn.svm import SVC"
   ]
  },
  {
   "cell_type": "code",
   "execution_count": 2,
   "metadata": {},
   "outputs": [],
   "source": [
    "# create target func f(x) = mx + b\n",
    "def create_data_set(N):\n",
    "    X = np.random.rand(2, N) * 2 - 1\n",
    "    Y = np.sign(X[1] - X[0] + 0.25*np.sin(np.pi*X[0]))\n",
    "    return X.T, Y"
   ]
  },
  {
   "cell_type": "code",
   "execution_count": 3,
   "metadata": {},
   "outputs": [],
   "source": [
    "def RBFkernel(gamma, train_x, train_y, test_x, test_y, C=1.):\n",
    "    svc = SVC(kernel='rbf', C=C, gamma=gamma)\n",
    "    svc.fit(train_x, train_y)\n",
    "    E_in = sum(svc.predict(train_x)!=train_y) / float(len(train_y))\n",
    "    E_out = sum(svc.predict(test_x)!=test_y) / float(len(test_y))\n",
    "    return E_in, E_out"
   ]
  },
  {
   "cell_type": "code",
   "execution_count": 4,
   "metadata": {},
   "outputs": [],
   "source": [
    "# regular RBF method\n",
    "def rbfregular(mu, gamma, X, Y):\n",
    "    matrix = np.zeros((len(X), len(mu)))\n",
    "    for i in range(len(X)):\n",
    "        for j in range(len(mu)):\n",
    "            matrix[i][j] = np.exp(-gamma * np.linalg.norm(X[i] - mu[j])**2)\n",
    "    pinv1 = np.linalg.pinv(np.matmul(matrix.T, matrix))\n",
    "    return np.matmul(np.matmul(pinv1, matrix.T), Y)\n",
    "\n",
    "def get_rbfreg_error(w, gamma, mu, x, y):\n",
    "    error = 0\n",
    "    for n in range(len(x)):\n",
    "        pred = 0\n",
    "        for k in range(len(w)):\n",
    "            pred += w[k] * np.exp(-gamma*np.linalg.norm(x[n]-mu[k])**2)\n",
    "        pred = np.sign(pred)\n",
    "        if np.not_equal(pred, y[n]): error += 1\n",
    "    return error / float(len(y))"
   ]
  },
  {
   "cell_type": "code",
   "execution_count": 5,
   "metadata": {},
   "outputs": [],
   "source": [
    "# k-means clustering\n",
    "def cluster_points(X, mu):\n",
    "    clusters  = {}\n",
    "    for x in X:\n",
    "        bestmukey = min([(i[0], np.linalg.norm(x-mu[i[0]])) \\\n",
    "                    for i in enumerate(mu)], key=lambda t:t[1])[0]\n",
    "        try:\n",
    "            clusters[bestmukey].append(x)\n",
    "        except KeyError:\n",
    "            clusters[bestmukey] = [x]\n",
    "    return clusters\n",
    " \n",
    "def reevaluate_centers(mu, clusters):\n",
    "    newmu = []\n",
    "    keys = sorted(clusters.keys())\n",
    "    for k in keys:\n",
    "        newmu.append(np.mean(clusters[k], axis = 0))\n",
    "    return newmu\n",
    " \n",
    "def has_converged(mu, oldmu):\n",
    "    return set([tuple(a) for a in mu]) == set([tuple(a) for a in oldmu])\n",
    " \n",
    "def find_centers(X, K):\n",
    "    # Initialize to K random centers\n",
    "    oldmu = X[np.random.randint(X.shape[0], size=K)]\n",
    "    mu = X[np.random.randint(X.shape[0], size=K)]\n",
    "    while not has_converged(mu, oldmu):\n",
    "        oldmu = mu\n",
    "        # Assign all points in X to clusters\n",
    "        clusters = cluster_points(X, mu)\n",
    "        # Reevaluate centers\n",
    "        mu = reevaluate_centers(oldmu, clusters)\n",
    "    return mu"
   ]
  },
  {
   "cell_type": "markdown",
   "metadata": {},
   "source": [
    "#### P13"
   ]
  },
  {
   "cell_type": "code",
   "execution_count": 6,
   "metadata": {},
   "outputs": [
    {
     "name": "stdout",
     "output_type": "stream",
     "text": [
      "The percentage that is not separable by RBF kernel: 0.0%\n"
     ]
    }
   ],
   "source": [
    "count = 0\n",
    "for i in range(1000):\n",
    "    x, y = create_data_set(100)\n",
    "    E_in, _ = RBFkernel(1.5, x, y, x, y, C=1e8)\n",
    "    if E_in != 0: count += 1\n",
    "print('The percentage that is not separable by RBF kernel: {}%'\n",
    "      .format(count/10.))"
   ]
  },
  {
   "cell_type": "markdown",
   "metadata": {},
   "source": [
    "#### P14-15"
   ]
  },
  {
   "cell_type": "code",
   "execution_count": 7,
   "metadata": {},
   "outputs": [
    {
     "name": "stdout",
     "output_type": "stream",
     "text": [
      "The percentage that kernel beats the regular when K=9: 75.8%\n",
      "The percentage that kernel beats the regular when K=12: 63.3%\n"
     ]
    }
   ],
   "source": [
    "for K in [9, 12]:\n",
    "    count = 0\n",
    "    for i in range(1000):\n",
    "        train_x, train_y = create_data_set(100)\n",
    "        test_x, test_y = create_data_set(100)\n",
    "        mu_rbf = find_centers(train_x, K)\n",
    "        w_rbf = rbfregular(mu_rbf, 1.5, train_x, train_y)\n",
    "        E_out_rbf = get_rbfreg_error(w_rbf, 1.5, mu_rbf, test_x, test_y)\n",
    "        _, E_out_ker = RBFkernel(1.5, train_x, train_y, test_x, test_y, C=1e8)\n",
    "        if E_out_ker < E_out_rbf: count += 1\n",
    "    print('The percentage that kernel beats the regular when K={}: {}%'\n",
    "          .format(K, count/10.))"
   ]
  },
  {
   "cell_type": "markdown",
   "metadata": {},
   "source": [
    "#### P16"
   ]
  },
  {
   "cell_type": "code",
   "execution_count": 8,
   "metadata": {},
   "outputs": [
    {
     "name": "stdout",
     "output_type": "stream",
     "text": [
      "The percentage that K=12 beats K=9:\n",
      "    E_in: 64.6%; E_out: 55.6%\n"
     ]
    }
   ],
   "source": [
    "in_count, out_count = 0, 0\n",
    "for i in range(1000):\n",
    "    E_in, E_out = {}, {}\n",
    "    for K in [9, 12]:\n",
    "        train_x, train_y = create_data_set(100)\n",
    "        test_x, test_y = create_data_set(100)\n",
    "        mu_rbf = find_centers(train_x, K)\n",
    "        w_rbf = rbfregular(mu_rbf, 1.5, train_x, train_y)\n",
    "        E_in[K] = get_rbfreg_error(w_rbf, 1.5, mu_rbf, train_x, train_y)\n",
    "        E_out[K] = get_rbfreg_error(w_rbf, 1.5, mu_rbf, test_x, test_y)\n",
    "    if E_in[9] > E_in[12]: in_count += 1\n",
    "    if E_out[9] > E_out[12]: out_count += 1\n",
    "print('The percentage that K=12 beats K=9:')\n",
    "print('    E_in: {}%; E_out: {}%'.format(in_count/10., out_count/10.))"
   ]
  },
  {
   "cell_type": "markdown",
   "metadata": {},
   "source": [
    "#### P17"
   ]
  },
  {
   "cell_type": "code",
   "execution_count": 9,
   "metadata": {},
   "outputs": [
    {
     "name": "stdout",
     "output_type": "stream",
     "text": [
      "The percentage that gamma=2 beats gamma=1.5:\n",
      "    E_in: 36.3%; E_out: 42.4%\n"
     ]
    }
   ],
   "source": [
    "in_count, out_count = 0, 0\n",
    "for i in range(1000):\n",
    "    E_in, E_out = {}, {}\n",
    "    for g in [1.5, 2]:\n",
    "        train_x, train_y = create_data_set(100)\n",
    "        test_x, test_y = create_data_set(100)\n",
    "        mu_rbf = find_centers(train_x, 9)\n",
    "        w_rbf = rbfregular(mu_rbf, g, train_x, train_y)\n",
    "        E_in[g] = get_rbfreg_error(w_rbf, g, mu_rbf, train_x, train_y)\n",
    "        E_out[g] = get_rbfreg_error(w_rbf, g, mu_rbf, test_x, test_y)\n",
    "    if E_in[1.5] > E_in[2]: in_count += 1\n",
    "    if E_out[1.5] > E_out[2]: out_count += 1\n",
    "print('The percentage that gamma=2 beats gamma=1.5:')\n",
    "print('    E_in: {}%; E_out: {}%'.format(in_count/10., out_count/10.))"
   ]
  },
  {
   "cell_type": "markdown",
   "metadata": {},
   "source": [
    "#### P18"
   ]
  },
  {
   "cell_type": "code",
   "execution_count": 10,
   "metadata": {},
   "outputs": [
    {
     "name": "stdout",
     "output_type": "stream",
     "text": [
      "The percentage that regular RBF achieves E_in=0: 1.7%\n"
     ]
    }
   ],
   "source": [
    "count = 0\n",
    "for i in range(1000):\n",
    "    x, y = create_data_set(100)\n",
    "    mu_rbf = find_centers(x, 9)\n",
    "    w_rbf = rbfregular(mu_rbf, 1.5, x, y)\n",
    "    E_in = get_rbfreg_error(w_rbf, 1.5, mu_rbf, x, y)\n",
    "    if E_in == 0: count += 1\n",
    "print('The percentage that regular RBF achieves E_in=0: {}%'\n",
    "      .format(count/10.))"
   ]
  }
 ],
 "metadata": {
  "kernelspec": {
   "display_name": "Python 3",
   "language": "python",
   "name": "python3"
  },
  "language_info": {
   "codemirror_mode": {
    "name": "ipython",
    "version": 3
   },
   "file_extension": ".py",
   "mimetype": "text/x-python",
   "name": "python",
   "nbconvert_exporter": "python",
   "pygments_lexer": "ipython3",
   "version": "3.7.4"
  }
 },
 "nbformat": 4,
 "nbformat_minor": 2
}
