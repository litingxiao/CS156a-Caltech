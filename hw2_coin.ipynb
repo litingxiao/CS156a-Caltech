{
 "cells": [
  {
   "cell_type": "markdown",
   "metadata": {},
   "source": [
    "## CS 156a, HW #2, P1-2\n",
    "### Author: Liting Xiao"
   ]
  },
  {
   "cell_type": "markdown",
   "metadata": {},
   "source": [
    "This notebook simulates **coin flipping experiments** for *N_exps* times.\n",
    "\n",
    "For each experiment, it generates *N_coins* and flips each coin *N_flips* times. \n",
    "\n",
    "Then, it computes the average fraction of heads for the first coin, a random coin, and the coin with the fewest heads."
   ]
  },
  {
   "cell_type": "code",
   "execution_count": 1,
   "metadata": {},
   "outputs": [],
   "source": [
    "import numpy as np\n",
    "import matplotlib\n",
    "matplotlib.rcParams.update({'font.family': 'STIXGeneral',\\\n",
    "        'font.size': 18, 'text.usetex': True})\n",
    "import matplotlib.pyplot as plt"
   ]
  },
  {
   "cell_type": "markdown",
   "metadata": {},
   "source": [
    "#### Conduct the coin flipping experiment"
   ]
  },
  {
   "cell_type": "code",
   "execution_count": 2,
   "metadata": {},
   "outputs": [],
   "source": [
    "N_exps = 100000\n",
    "N_coins = 1000\n",
    "N_flips = 10\n",
    "\n",
    "nu_1 = []\n",
    "nu_rand = []\n",
    "nu_min = []\n",
    "\n",
    "# define 1 to be head\n",
    "for i in range(N_exps):\n",
    "    coins = np.random.randint(2, size=(N_coins, N_flips))\n",
    "    nu_coins = np.sum(coins, axis=1) / N_flips\n",
    "    \n",
    "    nu_1.append(nu_coins[0])\n",
    "    nu_rand.append(np.random.choice(nu_coins))\n",
    "    nu_min.append(min(nu_coins))"
   ]
  },
  {
   "cell_type": "markdown",
   "metadata": {},
   "source": [
    "#### Print statistics and plot histograms"
   ]
  },
  {
   "cell_type": "code",
   "execution_count": 3,
   "metadata": {},
   "outputs": [
    {
     "name": "stdout",
     "output_type": "stream",
     "text": [
      "The average of nu_1 is: 0.500436\n",
      "The average of nu_rand is: 0.49991700000000006\n",
      "The average of nu_min is: 0.037859000000000004\n"
     ]
    }
   ],
   "source": [
    "print('The average of nu_1 is: {}'.format(np.mean(nu_1)))\n",
    "print('The average of nu_rand is: {}'.format(np.mean(nu_rand)))\n",
    "print('The average of nu_min is: {}'.format(np.mean(nu_min)))"
   ]
  },
  {
   "cell_type": "code",
   "execution_count": 4,
   "metadata": {},
   "outputs": [
    {
     "data": {
      "image/png": "[encoded data removed]",
      "text/plain": [
       "<Figure size 576x432 with 1 Axes>"
      ]
     },
     "metadata": {
      "needs_background": "light"
     },
     "output_type": "display_data"
    }
   ],
   "source": [
    "# make centered bins\n",
    "bins = np.linspace(0, 1.1, 12) - 0.05\n",
    "\n",
    "plt.figure(figsize=(8, 6))\n",
    "plt.hist(nu_1, bins=bins, histtype='step', linewidth=3,\n",
    "         label='The FIRST coin')\n",
    "plt.hist(nu_rand, bins=bins, histtype='step', linewidth=2,\n",
    "         label='A RANDOM coin')\n",
    "plt.hist(nu_min, bins=bins, histtype='step', linewidth=2,\n",
    "         label=r'The coin with the MINIMUM number of heads')\n",
    "plt.xlabel(r'$\\nu$')\n",
    "plt.ylabel(r'Number of $\\nu$')\n",
    "plt.legend(loc='best')\n",
    "plt.show()"
   ]
  }
 ],
 "metadata": {
  "kernelspec": {
   "display_name": "Python 3",
   "language": "python",
   "name": "python3"
  },
  "language_info": {
   "codemirror_mode": {
    "name": "ipython",
    "version": 3
   },
   "file_extension": ".py",
   "mimetype": "text/x-python",
   "name": "python",
   "nbconvert_exporter": "python",
   "pygments_lexer": "ipython3",
   "version": "3.9.4"
  }
 },
 "nbformat": 4,
 "nbformat_minor": 2
}
