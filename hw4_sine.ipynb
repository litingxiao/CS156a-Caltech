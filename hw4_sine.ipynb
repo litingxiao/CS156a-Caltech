{
 "cells": [
  {
   "cell_type": "markdown",
   "metadata": {},
   "source": [
    "## CS 156a, HW #4, P4-7\n",
    "### Author: Liting Xiao"
   ]
  },
  {
   "cell_type": "markdown",
   "metadata": {},
   "source": [
    "This notebook:\n",
    "- generates 2 random data points from the target function $f(x)=\\sin(\\pi x), x \\in [-1, 1]$ \n",
    "- finds the expected final hypothesis of the model $h(x) = ax$ using scikit-learn's LinearRegression()\n",
    "- calculates the bias and variance of the best hypothesis\n",
    "- explores some other hypotheses"
   ]
  },
  {
   "cell_type": "code",
   "execution_count": 1,
   "metadata": {},
   "outputs": [],
   "source": [
    "import numpy as np\n",
    "from sklearn.linear_model import LinearRegression"
   ]
  },
  {
   "cell_type": "markdown",
   "metadata": {},
   "source": [
    "#### P4"
   ]
  },
  {
   "cell_type": "code",
   "execution_count": 2,
   "metadata": {},
   "outputs": [
    {
     "name": "stdout",
     "output_type": "stream",
     "text": [
      "The expected hypothesis is y = 1.42x.\n"
     ]
    }
   ],
   "source": [
    "N = 10000\n",
    "ahat = []\n",
    "for _ in range(N):\n",
    "    x = np.random.rand(2, 1) * 2 - 1\n",
    "    y = np.sin(np.pi * x)\n",
    "    line = LinearRegression(fit_intercept=False).fit(x, y)\n",
    "    ahat.append(line.coef_[0][0])\n",
    "\n",
    "amean = np.mean(ahat)\n",
    "print('The expected hypothesis is y = {:.2f}x.'.format(amean))"
   ]
  },
  {
   "cell_type": "markdown",
   "metadata": {},
   "source": [
    "***Thus, choose [e].***"
   ]
  },
  {
   "cell_type": "markdown",
   "metadata": {},
   "source": [
    "#### P5"
   ]
  },
  {
   "cell_type": "code",
   "execution_count": 3,
   "metadata": {},
   "outputs": [
    {
     "name": "stdout",
     "output_type": "stream",
     "text": [
      "The bias is 0.27\n"
     ]
    }
   ],
   "source": [
    "x_test = np.random.uniform(-1, 1, N)\n",
    "bias = ((amean * x_test - np.sin(np.pi * x_test)) ** 2).mean()\n",
    "print('The bias is {:.2f}'.format(bias))"
   ]
  },
  {
   "cell_type": "markdown",
   "metadata": {},
   "source": [
    "***Thus, choose [b].***"
   ]
  },
  {
   "cell_type": "markdown",
   "metadata": {},
   "source": [
    "#### P6"
   ]
  },
  {
   "cell_type": "code",
   "execution_count": 4,
   "metadata": {},
   "outputs": [
    {
     "name": "stdout",
     "output_type": "stream",
     "text": [
      "The variance is 0.23\n"
     ]
    }
   ],
   "source": [
    "var = ((np.outer(ahat, x_test) - amean * x_test) ** 2).mean()\n",
    "print('The variance is {:.2f}'.format(var))"
   ]
  },
  {
   "cell_type": "markdown",
   "metadata": {},
   "source": [
    "***Thus, choose [a].***"
   ]
  },
  {
   "cell_type": "markdown",
   "metadata": {},
   "source": [
    "#### P7"
   ]
  },
  {
   "cell_type": "code",
   "execution_count": 5,
   "metadata": {},
   "outputs": [
    {
     "name": "stdout",
     "output_type": "stream",
     "text": [
      "For h(x) = b, E_out = bias + variance = 0.74.\n"
     ]
    }
   ],
   "source": [
    "# h(x) = b\n",
    "x = np.random.uniform(-1, 1, (N, 2))\n",
    "y = np.sin(np.pi * x)\n",
    "coef1 = y.mean(axis=1)\n",
    "mean1 = coef1.mean()\n",
    "bias1 = ((mean1 * x_test - np.sin(np.pi * x_test)) ** 2).mean()\n",
    "var1 = ((np.outer(coef1, np.ones_like(x_test)) - mean1 * x_test) ** 2).mean()\n",
    "print('For h(x) = b, E_out = bias + variance = {:.2f}.'.format(bias1 + var1))"
   ]
  },
  {
   "cell_type": "code",
   "execution_count": 6,
   "metadata": {},
   "outputs": [
    {
     "name": "stdout",
     "output_type": "stream",
     "text": [
      "For h(x) = ax, E_out = 0.50.\n"
     ]
    }
   ],
   "source": [
    "# h(x) = ax was calculated in P4-6.\n",
    "print('For h(x) = ax, E_out = {:.2f}.'.format(bias + var))"
   ]
  },
  {
   "cell_type": "code",
   "execution_count": 7,
   "metadata": {},
   "outputs": [
    {
     "name": "stdout",
     "output_type": "stream",
     "text": [
      "For h(x) = ax + b, E_out = 1.86.\n"
     ]
    }
   ],
   "source": [
    "# h(x) = ax + b\n",
    "coef3, inter3 = [], []\n",
    "for _ in range(N):\n",
    "    x = np.random.rand(2, 1) * 2 - 1\n",
    "    y = np.sin(np.pi * x)\n",
    "    line = LinearRegression().fit(x, y)\n",
    "    coef3.append(line.coef_[0][0])\n",
    "    inter3.append(line.intercept_[0])\n",
    "\n",
    "coef3_mean, inter3_mean = np.mean(coef3), np.mean(inter3)\n",
    "bias3 = np.mean((coef3_mean * x_test + inter3_mean - np.sin(np.pi * x_test)) ** 2)\n",
    "var3 = np.mean((np.outer(coef3, x_test) + inter3\\\n",
    "                - coef3_mean * x_test - inter3_mean) ** 2)\n",
    "print('For h(x) = ax + b, E_out = {:.2f}.'.format(bias3 + var3))"
   ]
  },
  {
   "cell_type": "code",
   "execution_count": 8,
   "metadata": {},
   "outputs": [
    {
     "name": "stdout",
     "output_type": "stream",
     "text": [
      "For h(x) = ax^2, E_out = 23.24.\n"
     ]
    }
   ],
   "source": [
    "# h(x) = ax^2\n",
    "coef4 = []\n",
    "for _ in range(N):\n",
    "    x = np.random.rand(2, 1) * 2 - 1\n",
    "    y = np.sin(np.pi * x)\n",
    "    line = LinearRegression(fit_intercept=False).fit(x**2, y)\n",
    "    coef4.append(line.coef_[0][0])\n",
    "\n",
    "coef4_mean = np.mean(coef4)\n",
    "bias4 = np.mean((coef4_mean * x_test**2 - np.sin(np.pi * x_test)) ** 2)\n",
    "var4 = np.mean((np.outer(coef4, x_test**2) - coef4_mean * x_test**2) ** 2)\n",
    "print('For h(x) = ax^2, E_out = {:.2f}.'.format(bias4 + var4))"
   ]
  },
  {
   "cell_type": "code",
   "execution_count": 9,
   "metadata": {},
   "outputs": [
    {
     "name": "stdout",
     "output_type": "stream",
     "text": [
      "For h(x) = ax^2 + b, E_out = 7173.59.\n"
     ]
    }
   ],
   "source": [
    "# h(x) = ax^2 + b\n",
    "coef5, inter5 = [], []\n",
    "for _ in range(N):\n",
    "    x = np.random.rand(2, 1) * 2 - 1\n",
    "    y = np.sin(np.pi * x)\n",
    "    line = LinearRegression().fit(x**2, y)\n",
    "    coef5.append(line.coef_[0][0])\n",
    "    inter5.append(line.intercept_[0])\n",
    "\n",
    "coef5_mean, inter5_mean = np.mean(coef5), np.mean(inter5)\n",
    "bias5 = np.mean((coef5_mean * x_test**2 + inter5_mean - np.sin(np.pi * x_test)) ** 2)\n",
    "var5 = np.mean((np.outer(coef5, x_test**2) + inter5\\\n",
    "                - coef5_mean * x_test**2 - inter5_mean) ** 2)\n",
    "print('For h(x) = ax^2 + b, E_out = {:.2f}.'.format(bias5 + var5))"
   ]
  },
  {
   "cell_type": "markdown",
   "metadata": {},
   "source": [
    "***Thus, the smallest E_out is from h(x) = ax, which is [b].***"
   ]
  }
 ],
 "metadata": {
  "kernelspec": {
   "display_name": "Python 3",
   "language": "python",
   "name": "python3"
  },
  "language_info": {
   "codemirror_mode": {
    "name": "ipython",
    "version": 3
   },
   "file_extension": ".py",
   "mimetype": "text/x-python",
   "name": "python",
   "nbconvert_exporter": "python",
   "pygments_lexer": "ipython3",
   "version": "3.9.4"
  }
 },
 "nbformat": 4,
 "nbformat_minor": 2
}
