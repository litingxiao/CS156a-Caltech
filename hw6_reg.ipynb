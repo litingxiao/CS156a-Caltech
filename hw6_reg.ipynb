{
 "cells": [
  {
   "cell_type": "markdown",
   "metadata": {},
   "source": [
    "### CS 156a, HW #6, P2-6\n",
    "Author: Liting Xiao"
   ]
  },
  {
   "cell_type": "code",
   "execution_count": 1,
   "metadata": {},
   "outputs": [],
   "source": [
    "import numpy as np"
   ]
  },
  {
   "cell_type": "code",
   "execution_count": 2,
   "metadata": {},
   "outputs": [],
   "source": [
    "# read in train/test data sets\n",
    "train_x = np.loadtxt('in.dta', usecols=(0,1), unpack=True)\n",
    "train_y = np.loadtxt('in.dta', usecols=2)\n",
    "test_x = np.loadtxt('out.dta', usecols=(0,1), unpack=True)\n",
    "test_y = np.loadtxt('out.dta', usecols=2) "
   ]
  },
  {
   "cell_type": "code",
   "execution_count": 3,
   "metadata": {},
   "outputs": [],
   "source": [
    "# non-linear transformations\n",
    "train_x_trans = np.vstack(([1]*len(train_y), train_x[0], train_x[1],\n",
    "                         train_x[0] ** 2, train_x[1] ** 2,\n",
    "                         train_x[0] * train_x[1],\n",
    "                         abs(train_x[0] - train_x[1]),\n",
    "                         abs(train_x[0] + train_x[1]))).T\n",
    "\n",
    "test_x_trans = np.vstack(([1]*len(test_y), test_x[0], test_x[1],\n",
    "                        test_x[0] ** 2, test_x[1] ** 2,\n",
    "                        test_x[0] * test_x[1],\n",
    "                        abs(test_x[0] - test_x[1]),\n",
    "                        abs(test_x[0] + test_x[1]))).T"
   ]
  },
  {
   "cell_type": "markdown",
   "metadata": {},
   "source": [
    "#### P2"
   ]
  },
  {
   "cell_type": "code",
   "execution_count": 4,
   "metadata": {},
   "outputs": [
    {
     "name": "stdout",
     "output_type": "stream",
     "text": [
      "The in-sample error is 0.03\n",
      "The out-of-sample error is 0.08\n"
     ]
    }
   ],
   "source": [
    "# linear regression\n",
    "pinv_Z = np.matmul(np.linalg.pinv(\n",
    "    np.matmul(train_x_trans, train_x_trans.T)), train_x_trans)\n",
    "w_lin = np.matmul(pinv_Z.T, train_y)\n",
    "# make predictions\n",
    "pred_train_y = np.sign(np.matmul(train_x_trans, w_lin))\n",
    "pred_test_y = np.sign(np.matmul(test_x_trans, w_lin))\n",
    "# in/out of sample error\n",
    "err_in = np.not_equal(pred_train_y, train_y).sum() / len(train_y)\n",
    "err_out = np.not_equal(pred_test_y, test_y).sum() / len(test_y)\n",
    "\n",
    "print('The in-sample error is {:.2f}'.format(err_in))\n",
    "print('The out-of-sample error is {:.2f}'.format(err_out))"
   ]
  },
  {
   "cell_type": "markdown",
   "metadata": {},
   "source": [
    "#### P3-4"
   ]
  },
  {
   "cell_type": "code",
   "execution_count": 5,
   "metadata": {},
   "outputs": [
    {
     "name": "stdout",
     "output_type": "stream",
     "text": [
      "For k = -3: \n",
      "    The in-sample error is 0.03\n",
      "    The out-of-sample error is 0.08\n"
     ]
    }
   ],
   "source": [
    "# regularized linear regression\n",
    "def reg_lin_model(k):\n",
    "    reg_mat = np.eye(len(train_y)) * 10**k\n",
    "    pinv_Z_reg = np.matmul(np.linalg.pinv(\n",
    "        np.matmul(train_x_trans, train_x_trans.T)+reg_mat), train_x_trans)\n",
    "    w_reg = np.matmul(pinv_Z_reg.T, train_y)\n",
    "    \n",
    "    # make predictions\n",
    "    pred_train_y = np.sign(np.matmul(train_x_trans, w_reg))\n",
    "    pred_test_y = np.sign(np.matmul(test_x_trans, w_reg))\n",
    "    \n",
    "    # in/out of sample error\n",
    "    err_in = np.not_equal(pred_train_y, train_y).sum() / len(train_y)\n",
    "    err_out = np.not_equal(pred_test_y, test_y).sum() / len(test_y)\n",
    "    return err_in, err_out\n",
    "\n",
    "err_in, err_out = reg_lin_model(-3)\n",
    "print('For k = -3: ')\n",
    "print('    The in-sample error is {:.2f}'.format(err_in))\n",
    "print('    The out-of-sample error is {:.2f}'.format(err_out))"
   ]
  },
  {
   "cell_type": "code",
   "execution_count": 6,
   "metadata": {},
   "outputs": [
    {
     "name": "stdout",
     "output_type": "stream",
     "text": [
      "For k = 3: \n",
      "    The in-sample error is 0.37\n",
      "    The out-of-sample error is 0.44\n"
     ]
    }
   ],
   "source": [
    "err_in, err_out = reg_lin_model(3)\n",
    "print('For k = 3: ')\n",
    "print('    The in-sample error is {:.2f}'.format(err_in))\n",
    "print('    The out-of-sample error is {:.2f}'.format(err_out))"
   ]
  },
  {
   "cell_type": "markdown",
   "metadata": {},
   "source": [
    "#### P5-6"
   ]
  },
  {
   "cell_type": "code",
   "execution_count": 7,
   "metadata": {},
   "outputs": [
    {
     "name": "stdout",
     "output_type": "stream",
     "text": [
      "For k = -2: \n",
      "    The in-sample error is 0.03\n",
      "    The out-of-sample error is 0.08\n",
      "\n",
      "For k = -1: \n",
      "    The in-sample error is 0.03\n",
      "    The out-of-sample error is 0.06\n",
      "\n",
      "For k = 0: \n",
      "    The in-sample error is 0.00\n",
      "    The out-of-sample error is 0.09\n",
      "\n",
      "For k = 1: \n",
      "    The in-sample error is 0.06\n",
      "    The out-of-sample error is 0.12\n",
      "\n",
      "For k = 2: \n",
      "    The in-sample error is 0.20\n",
      "    The out-of-sample error is 0.23\n",
      "\n"
     ]
    }
   ],
   "source": [
    "for k in range(-2, 3):\n",
    "    err_in, err_out = reg_lin_model(k)\n",
    "    print('For k = {}: '.format(k))\n",
    "    print('    The in-sample error is {:.2f}'.format(err_in))\n",
    "    print('    The out-of-sample error is {:.2f}'.format(err_out))\n",
    "    print('')"
   ]
  }
 ],
 "metadata": {
  "kernelspec": {
   "display_name": "Python 3",
   "language": "python",
   "name": "python3"
  },
  "language_info": {
   "codemirror_mode": {
    "name": "ipython",
    "version": 3
   },
   "file_extension": ".py",
   "mimetype": "text/x-python",
   "name": "python",
   "nbconvert_exporter": "python",
   "pygments_lexer": "ipython3",
   "version": "3.7.4"
  }
 },
 "nbformat": 4,
 "nbformat_minor": 2
}
