{
 "cells": [
  {
   "cell_type": "markdown",
   "metadata": {},
   "source": [
    "### CS 156a, HW #7, P1-5\n",
    "Author: Liting Xiao"
   ]
  },
  {
   "cell_type": "code",
   "execution_count": 1,
   "metadata": {},
   "outputs": [],
   "source": [
    "import numpy as np"
   ]
  },
  {
   "cell_type": "code",
   "execution_count": 2,
   "metadata": {},
   "outputs": [],
   "source": [
    "# read in train/test data sets\n",
    "train_x = np.loadtxt('in.dta', usecols=(0,1), unpack=True)\n",
    "train_y = np.loadtxt('in.dta', usecols=2)\n",
    "test_x = np.loadtxt('out.dta', usecols=(0,1), unpack=True)\n",
    "test_y = np.loadtxt('out.dta', usecols=2) "
   ]
  },
  {
   "cell_type": "code",
   "execution_count": 3,
   "metadata": {},
   "outputs": [],
   "source": [
    "# split in.dta into 25 trainning and 10 validation sets\n",
    "val_x = train_x[:,25:]\n",
    "train_x = train_x[:,:25]\n",
    "val_y = train_y[25:]\n",
    "train_y = train_y[:25]"
   ]
  },
  {
   "cell_type": "code",
   "execution_count": 4,
   "metadata": {},
   "outputs": [],
   "source": [
    "# non-linear transformations\n",
    "def nonlinear_trans(in_x, in_y):\n",
    "    return np.vstack(([1]*len(in_y), in_x[0], in_x[1],\n",
    "                      in_x[0] ** 2, in_x[1] ** 2,\n",
    "                      in_x[0] * in_x[1],\n",
    "                      abs(in_x[0] - in_x[1]),\n",
    "                      abs(in_x[0] + in_x[1]))).T\n",
    "\n",
    "train_x_trans = nonlinear_trans(train_x, train_y)\n",
    "val_x_trans = nonlinear_trans(val_x, val_y)\n",
    "test_x_trans = nonlinear_trans(test_x, test_y)"
   ]
  },
  {
   "cell_type": "markdown",
   "metadata": {},
   "source": [
    "#### P1-2"
   ]
  },
  {
   "cell_type": "code",
   "execution_count": 5,
   "metadata": {},
   "outputs": [
    {
     "name": "stdout",
     "output_type": "stream",
     "text": [
      "For fit degree k = 3:\n",
      "The validation error is 0.30.\n",
      "The test error is 0.42.\n",
      "\n",
      "For fit degree k = 4:\n",
      "The validation error is 0.50.\n",
      "The test error is 0.42.\n",
      "\n",
      "For fit degree k = 5:\n",
      "The validation error is 0.20.\n",
      "The test error is 0.19.\n",
      "\n",
      "For fit degree k = 6:\n",
      "The validation error is 0.00.\n",
      "The test error is 0.08.\n",
      "\n",
      "For fit degree k = 7:\n",
      "The validation error is 0.10.\n",
      "The test error is 0.07.\n",
      "\n",
      "1. The smallest validation error happens at [d]: k=6.\n",
      "2. The smallest test error happens at [e]: k=7.\n"
     ]
    }
   ],
   "source": [
    "def train_val_errs(train_x_trans, train_y,\n",
    "                   val_x_trans, val_y, \n",
    "                   test_x_trans, test_y):\n",
    "    for k in range(4, 9):\n",
    "        degree_x_trans = train_x_trans[:,:k]\n",
    "    \n",
    "        # linear regression\n",
    "        pinv_Z = np.matmul(np.linalg.pinv(\n",
    "            np.matmul(degree_x_trans, degree_x_trans.T)), degree_x_trans)\n",
    "        w_lin = np.matmul(pinv_Z.T, train_y)\n",
    "    \n",
    "        # make predictions\n",
    "        pred_val_y = np.sign(np.matmul(val_x_trans[:,:k], w_lin))\n",
    "        pred_test_y = np.sign(np.matmul(test_x_trans[:,:k], w_lin))\n",
    "    \n",
    "        # val/test of sample error\n",
    "        err_val = np.not_equal(pred_val_y, val_y).sum() / len(val_y)\n",
    "        err_test = np.not_equal(pred_test_y, test_y).sum() / len(test_y)\n",
    "    \n",
    "        print('For fit degree k = {}:'.format(k-1))\n",
    "        print('The validation error is {:.2f}.'.format(err_val))\n",
    "        print('The test error is {:.2f}.'.format(err_test))\n",
    "        print('')\n",
    "\n",
    "train_val_errs(train_x_trans, train_y,\n",
    "               val_x_trans, val_y, test_x_trans, test_y)\n",
    "print('1. The smallest validation error happens at [d]: k=6.')\n",
    "print('2. The smallest test error happens at [e]: k=7.')"
   ]
  },
  {
   "cell_type": "markdown",
   "metadata": {},
   "source": [
    "#### P3-4"
   ]
  },
  {
   "cell_type": "code",
   "execution_count": 6,
   "metadata": {},
   "outputs": [
    {
     "name": "stdout",
     "output_type": "stream",
     "text": [
      "For fit degree k = 3:\n",
      "The validation error is 0.28.\n",
      "The test error is 0.40.\n",
      "\n",
      "For fit degree k = 4:\n",
      "The validation error is 0.36.\n",
      "The test error is 0.39.\n",
      "\n",
      "For fit degree k = 5:\n",
      "The validation error is 0.20.\n",
      "The test error is 0.28.\n",
      "\n",
      "For fit degree k = 6:\n",
      "The validation error is 0.08.\n",
      "The test error is 0.19.\n",
      "\n",
      "For fit degree k = 7:\n",
      "The validation error is 0.12.\n",
      "The test error is 0.20.\n",
      "\n",
      "3. The smallest validation error happens at [d]: k=6.\n",
      "4. The smallest test error happens at [d]: k=6.\n"
     ]
    }
   ],
   "source": [
    "train_val_errs(val_x_trans, val_y,\n",
    "               train_x_trans, train_y, test_x_trans, test_y)\n",
    "print('3. The smallest validation error happens at [d]: k=6.')\n",
    "print('4. The smallest test error happens at [d]: k=6.')"
   ]
  },
  {
   "cell_type": "markdown",
   "metadata": {},
   "source": [
    "#### P5\n",
    "Based from the print-outs earlier, the out-of-sample errors for P1 and P3 are (0.08, 0.19), which is closest to [b]."
   ]
  },
  {
   "cell_type": "markdown",
   "metadata": {},
   "source": [
    "#### P6"
   ]
  },
  {
   "cell_type": "code",
   "execution_count": 7,
   "metadata": {},
   "outputs": [
    {
     "name": "stdout",
     "output_type": "stream",
     "text": [
      "The expected value for e1 is 0.50\n",
      "The expected value for e2 is 0.50\n",
      "The expected value for e is 0.34\n",
      "6. The expected values are closest to [d]: 0.5, 0.5, 0.4.\n"
     ]
    }
   ],
   "source": [
    "N = 10000\n",
    "e1 = np.random.rand(N)\n",
    "e2 = np.random.rand(N)\n",
    "e = np.minimum(e1, e2)\n",
    "\n",
    "print('The expected value for e1 is {:.2f}'.format(np.mean(e1)))\n",
    "print('The expected value for e2 is {:.2f}'.format(np.mean(e2)))\n",
    "print('The expected value for e is {:.2f}'.format(np.mean(e)))\n",
    "print('6. The expected values are closest to [d]: 0.5, 0.5, 0.4.')"
   ]
  }
 ],
 "metadata": {
  "kernelspec": {
   "display_name": "Python 3",
   "language": "python",
   "name": "python3"
  },
  "language_info": {
   "codemirror_mode": {
    "name": "ipython",
    "version": 3
   },
   "file_extension": ".py",
   "mimetype": "text/x-python",
   "name": "python",
   "nbconvert_exporter": "python",
   "pygments_lexer": "ipython3",
   "version": "3.7.4"
  }
 },
 "nbformat": 4,
 "nbformat_minor": 2
}
