{
 "cells": [
  {
   "cell_type": "markdown",
   "metadata": {},
   "source": [
    "## CS 156a, HW #5, Problems 5-7\n",
    "### Author: Liting Xiao"
   ]
  },
  {
   "cell_type": "markdown",
   "metadata": {},
   "source": [
    "This notebook:\n",
    "- implements gradient descent for a provided error function $E(u, v) = (ue^v-2ve^{-u})^2$"
   ]
  },
  {
   "cell_type": "code",
   "execution_count": 1,
   "metadata": {},
   "outputs": [],
   "source": [
    "import numpy as np"
   ]
  },
  {
   "cell_type": "code",
   "execution_count": 2,
   "metadata": {},
   "outputs": [],
   "source": [
    "def error_func(u, v):\n",
    "    return (u * np.exp(v) - 2 * v * np.exp(-u)) ** 2"
   ]
  },
  {
   "cell_type": "code",
   "execution_count": 3,
   "metadata": {},
   "outputs": [],
   "source": [
    "def grad_u(u, v):\n",
    "    return 2 * (np.exp(v) + 2 * v * np.exp(-u)) *\\\n",
    "        (u * np.exp(v) - 2 * v * np.exp(-u))"
   ]
  },
  {
   "cell_type": "code",
   "execution_count": 4,
   "metadata": {},
   "outputs": [],
   "source": [
    "def grad_v(u, v):\n",
    "    return 2 * (u * np.exp(v) - 2 * np.exp(-u)) *\\\n",
    "        (u * np.exp(v) - 2 * v * np.exp(-u))"
   ]
  },
  {
   "cell_type": "markdown",
   "metadata": {},
   "source": [
    "#### P5 & P6: gradient descent"
   ]
  },
  {
   "cell_type": "code",
   "execution_count": 5,
   "metadata": {},
   "outputs": [
    {
     "name": "stdout",
     "output_type": "stream",
     "text": [
      "The number of iterations neededto get error to fall below 1e-14 is: 10\n",
      "(u, v) now is (0.045, 0.024)\n"
     ]
    }
   ],
   "source": [
    "u, v = 1, 1\n",
    "err = error_func(u, v)\n",
    "eta = 0.1\n",
    "N = 0\n",
    "\n",
    "while err >= 1e-14:\n",
    "    du = grad_u(u, v)\n",
    "    dv = grad_v(u, v)\n",
    "    u -= eta * du\n",
    "    v -= eta * dv\n",
    "    err = error_func(u, v)\n",
    "    N += 1\n",
    "    \n",
    "print('The number of iterations needed'\\\n",
    "      'to get error to fall below 1e-14 is: {}'.format(N))\n",
    "print('(u, v) now is ({:.3f}, {:.3f})'.format(u, v))"
   ]
  },
  {
   "cell_type": "markdown",
   "metadata": {},
   "source": [
    "#### P7: \"coordinate descent\""
   ]
  },
  {
   "cell_type": "code",
   "execution_count": 6,
   "metadata": {},
   "outputs": [
    {
     "name": "stdout",
     "output_type": "stream",
     "text": [
      "The error of coordinate descent after15 iterations is: 0.14\n"
     ]
    }
   ],
   "source": [
    "u, v = 1, 1\n",
    "N = 15\n",
    "\n",
    "for _ in range(N):\n",
    "    # Step 1\n",
    "    du = grad_u(u, v)\n",
    "    u -= eta * du\n",
    "\n",
    "    # Step 2\n",
    "    dv = grad_v(u, v)\n",
    "    v -= eta * dv\n",
    "\n",
    "print('The error of coordinate descent after'\\\n",
    "      '15 iterations is: {:.2f}'.format(error_func(u, v)))"
   ]
  }
 ],
 "metadata": {
  "kernelspec": {
   "display_name": "Python 3",
   "language": "python",
   "name": "python3"
  },
  "language_info": {
   "codemirror_mode": {
    "name": "ipython",
    "version": 3
   },
   "file_extension": ".py",
   "mimetype": "text/x-python",
   "name": "python",
   "nbconvert_exporter": "python",
   "pygments_lexer": "ipython3",
   "version": "3.9.4"
  }
 },
 "nbformat": 4,
 "nbformat_minor": 2
}
